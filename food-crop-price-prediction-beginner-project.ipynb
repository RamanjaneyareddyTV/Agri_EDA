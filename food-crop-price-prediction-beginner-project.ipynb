{
 "cells": [
  {
   "cell_type": "markdown",
   "id": "63243842",
   "metadata": {
    "papermill": {
     "duration": 0.095472,
     "end_time": "2021-09-09T14:58:38.152583",
     "exception": false,
     "start_time": "2021-09-09T14:58:38.057111",
     "status": "completed"
    },
    "tags": []
   },
   "source": [
    "The dataset is on Kenya's average Monthly Price of Food Crops Commodities \n",
    "Scheduled Horticultural Crops between 2012 to 2015.The task is to be able to predict crop prices using the data features available for market insight and aslso planning purposes. \n",
    "\n",
    "The particular outcome that we want to be able to predict is of continous nature (crop prices) hence the the algorithms used include Linear Regression,Decion Tree Regression,Random Forest Regression.\n",
    "\n",
    "# Share your feedback and also UPVOTE"
   ]
  },
  {
   "cell_type": "code",
   "execution_count": 1,
   "id": "873c5d68",
   "metadata": {
    "papermill": {
     "duration": 1.17576,
     "end_time": "2021-09-09T14:58:39.418486",
     "exception": false,
     "start_time": "2021-09-09T14:58:38.242726",
     "status": "completed"
    },
    "tags": []
   },
   "outputs": [],
   "source": [
    "import numpy as np\n",
    "import pandas as pd\n",
    "import matplotlib.pyplot as plt\n",
    "import seaborn as sns\n",
    "from  sklearn.preprocessing import OrdinalEncoder"
   ]
  },
  {
   "cell_type": "markdown",
   "id": "97f2d1fa",
   "metadata": {
    "papermill": {
     "duration": 0.089154,
     "end_time": "2021-09-09T14:58:39.598452",
     "exception": false,
     "start_time": "2021-09-09T14:58:39.509298",
     "status": "completed"
    },
    "tags": []
   },
   "source": [
    "### Import and load dataset"
   ]
  },
  {
   "cell_type": "code",
   "execution_count": 2,
   "id": "b88a06c1",
   "metadata": {
    "papermill": {
     "duration": 0.113945,
     "end_time": "2021-09-09T14:58:39.801180",
     "exception": false,
     "start_time": "2021-09-09T14:58:39.687235",
     "status": "completed"
    },
    "tags": []
   },
   "outputs": [],
   "source": [
    "data=pd.read_csv(\"Prices for Food Crops_Commodities_2012_to_2015.csv\")"
   ]
  },
  {
   "cell_type": "markdown",
   "id": "1e94aef2",
   "metadata": {
    "papermill": {
     "duration": 0.090055,
     "end_time": "2021-09-09T14:58:39.982387",
     "exception": false,
     "start_time": "2021-09-09T14:58:39.892332",
     "status": "completed"
    },
    "tags": []
   },
   "source": [
    "### Summary of our data after loading"
   ]
  },
  {
   "cell_type": "code",
   "execution_count": 3,
   "id": "3803595a",
   "metadata": {
    "papermill": {
     "duration": 0.129598,
     "end_time": "2021-09-09T14:58:40.204677",
     "exception": false,
     "start_time": "2021-09-09T14:58:40.075079",
     "status": "completed"
    },
    "scrolled": true,
    "tags": []
   },
   "outputs": [
    {
     "data": {
      "text/html": [
       "<div>\n",
       "<style scoped>\n",
       "    .dataframe tbody tr th:only-of-type {\n",
       "        vertical-align: middle;\n",
       "    }\n",
       "\n",
       "    .dataframe tbody tr th {\n",
       "        vertical-align: top;\n",
       "    }\n",
       "\n",
       "    .dataframe thead th {\n",
       "        text-align: right;\n",
       "    }\n",
       "</style>\n",
       "<table border=\"1\" class=\"dataframe\">\n",
       "  <thead>\n",
       "    <tr style=\"text-align: right;\">\n",
       "      <th></th>\n",
       "      <th>Produce_Variety</th>\n",
       "      <th>Commodity_Type</th>\n",
       "      <th>Unit</th>\n",
       "      <th>Volume_in_Kgs</th>\n",
       "      <th>Values_in_Ksh</th>\n",
       "      <th>Date</th>\n",
       "      <th>OBJECTID</th>\n",
       "    </tr>\n",
       "  </thead>\n",
       "  <tbody>\n",
       "    <tr>\n",
       "      <th>0</th>\n",
       "      <td>Horticulture</td>\n",
       "      <td>Cabbages</td>\n",
       "      <td>Ext Bag</td>\n",
       "      <td>126</td>\n",
       "      <td>KES2205.00</td>\n",
       "      <td>01/01/2012 12:00:00 AM</td>\n",
       "      <td>0</td>\n",
       "    </tr>\n",
       "    <tr>\n",
       "      <th>1</th>\n",
       "      <td>Horticulture</td>\n",
       "      <td>Cooking Bananas</td>\n",
       "      <td>Med Bunch</td>\n",
       "      <td>22</td>\n",
       "      <td>KES511.00</td>\n",
       "      <td>01/01/2012 12:00:00 AM</td>\n",
       "      <td>1</td>\n",
       "    </tr>\n",
       "    <tr>\n",
       "      <th>2</th>\n",
       "      <td>Horticulture</td>\n",
       "      <td>Ripe Bananas</td>\n",
       "      <td>Med Bunch</td>\n",
       "      <td>14</td>\n",
       "      <td>KES616.00</td>\n",
       "      <td>01/01/2012 12:00:00 AM</td>\n",
       "      <td>2</td>\n",
       "    </tr>\n",
       "    <tr>\n",
       "      <th>3</th>\n",
       "      <td>Horticulture</td>\n",
       "      <td>Carrots</td>\n",
       "      <td>Ext Bag</td>\n",
       "      <td>138</td>\n",
       "      <td>KES2833.00</td>\n",
       "      <td>01/01/2012 12:00:00 AM</td>\n",
       "      <td>3</td>\n",
       "    </tr>\n",
       "    <tr>\n",
       "      <th>4</th>\n",
       "      <td>Horticulture</td>\n",
       "      <td>Tomatoes</td>\n",
       "      <td>Lg Box</td>\n",
       "      <td>64</td>\n",
       "      <td>KES3411.00</td>\n",
       "      <td>01/01/2012 12:00:00 AM</td>\n",
       "      <td>4</td>\n",
       "    </tr>\n",
       "    <tr>\n",
       "      <th>...</th>\n",
       "      <td>...</td>\n",
       "      <td>...</td>\n",
       "      <td>...</td>\n",
       "      <td>...</td>\n",
       "      <td>...</td>\n",
       "      <td>...</td>\n",
       "      <td>...</td>\n",
       "    </tr>\n",
       "    <tr>\n",
       "      <th>1140</th>\n",
       "      <td>Legumes</td>\n",
       "      <td>Groundnuts</td>\n",
       "      <td>Bag</td>\n",
       "      <td>110</td>\n",
       "      <td>KES12986.00</td>\n",
       "      <td>12/25/2015 12:00:00 AM</td>\n",
       "      <td>1140</td>\n",
       "    </tr>\n",
       "    <tr>\n",
       "      <th>1141</th>\n",
       "      <td>Roots &amp; Tubers</td>\n",
       "      <td>Red Irish Potatoes</td>\n",
       "      <td>Bag</td>\n",
       "      <td>110</td>\n",
       "      <td>KES2805.00</td>\n",
       "      <td>12/25/2015 12:00:00 AM</td>\n",
       "      <td>1141</td>\n",
       "    </tr>\n",
       "    <tr>\n",
       "      <th>1142</th>\n",
       "      <td>Roots &amp; Tubers</td>\n",
       "      <td>White Irish Potatoes</td>\n",
       "      <td>Bag</td>\n",
       "      <td>110</td>\n",
       "      <td>KES2885.00</td>\n",
       "      <td>12/25/2015 12:00:00 AM</td>\n",
       "      <td>1142</td>\n",
       "    </tr>\n",
       "    <tr>\n",
       "      <th>1143</th>\n",
       "      <td>Roots &amp; Tubers</td>\n",
       "      <td>Cassava Fresh</td>\n",
       "      <td>Bag</td>\n",
       "      <td>99</td>\n",
       "      <td>KES2097.00</td>\n",
       "      <td>12/25/2015 12:00:00 AM</td>\n",
       "      <td>1143</td>\n",
       "    </tr>\n",
       "    <tr>\n",
       "      <th>1144</th>\n",
       "      <td>Roots &amp; Tubers</td>\n",
       "      <td>Sweet Potatoes</td>\n",
       "      <td>Bag</td>\n",
       "      <td>98</td>\n",
       "      <td>KES3067.00</td>\n",
       "      <td>12/25/2015 12:00:00 AM</td>\n",
       "      <td>1144</td>\n",
       "    </tr>\n",
       "  </tbody>\n",
       "</table>\n",
       "<p>1145 rows × 7 columns</p>\n",
       "</div>"
      ],
      "text/plain": [
       "     Produce_Variety        Commodity_Type       Unit  Volume_in_Kgs  \\\n",
       "0       Horticulture              Cabbages    Ext Bag            126   \n",
       "1       Horticulture       Cooking Bananas  Med Bunch             22   \n",
       "2       Horticulture          Ripe Bananas  Med Bunch             14   \n",
       "3       Horticulture               Carrots    Ext Bag            138   \n",
       "4       Horticulture              Tomatoes     Lg Box             64   \n",
       "...              ...                   ...        ...            ...   \n",
       "1140         Legumes            Groundnuts        Bag            110   \n",
       "1141  Roots & Tubers    Red Irish Potatoes        Bag            110   \n",
       "1142  Roots & Tubers  White Irish Potatoes        Bag            110   \n",
       "1143  Roots & Tubers         Cassava Fresh        Bag             99   \n",
       "1144  Roots & Tubers        Sweet Potatoes        Bag             98   \n",
       "\n",
       "     Values_in_Ksh                    Date  OBJECTID  \n",
       "0       KES2205.00  01/01/2012 12:00:00 AM         0  \n",
       "1        KES511.00  01/01/2012 12:00:00 AM         1  \n",
       "2        KES616.00  01/01/2012 12:00:00 AM         2  \n",
       "3       KES2833.00  01/01/2012 12:00:00 AM         3  \n",
       "4       KES3411.00  01/01/2012 12:00:00 AM         4  \n",
       "...            ...                     ...       ...  \n",
       "1140   KES12986.00  12/25/2015 12:00:00 AM      1140  \n",
       "1141    KES2805.00  12/25/2015 12:00:00 AM      1141  \n",
       "1142    KES2885.00  12/25/2015 12:00:00 AM      1142  \n",
       "1143    KES2097.00  12/25/2015 12:00:00 AM      1143  \n",
       "1144    KES3067.00  12/25/2015 12:00:00 AM      1144  \n",
       "\n",
       "[1145 rows x 7 columns]"
      ]
     },
     "execution_count": 3,
     "metadata": {},
     "output_type": "execute_result"
    }
   ],
   "source": [
    "data"
   ]
  },
  {
   "cell_type": "code",
   "execution_count": 4,
   "id": "095a0a0c",
   "metadata": {
    "papermill": {
     "duration": 0.107829,
     "end_time": "2021-09-09T14:58:40.404124",
     "exception": false,
     "start_time": "2021-09-09T14:58:40.296295",
     "status": "completed"
    },
    "scrolled": true,
    "tags": []
   },
   "outputs": [
    {
     "data": {
      "text/html": [
       "<div>\n",
       "<style scoped>\n",
       "    .dataframe tbody tr th:only-of-type {\n",
       "        vertical-align: middle;\n",
       "    }\n",
       "\n",
       "    .dataframe tbody tr th {\n",
       "        vertical-align: top;\n",
       "    }\n",
       "\n",
       "    .dataframe thead th {\n",
       "        text-align: right;\n",
       "    }\n",
       "</style>\n",
       "<table border=\"1\" class=\"dataframe\">\n",
       "  <thead>\n",
       "    <tr style=\"text-align: right;\">\n",
       "      <th></th>\n",
       "      <th>Produce_Variety</th>\n",
       "      <th>Commodity_Type</th>\n",
       "      <th>Unit</th>\n",
       "      <th>Volume_in_Kgs</th>\n",
       "      <th>Values_in_Ksh</th>\n",
       "      <th>Date</th>\n",
       "      <th>OBJECTID</th>\n",
       "    </tr>\n",
       "  </thead>\n",
       "  <tbody>\n",
       "    <tr>\n",
       "      <th>0</th>\n",
       "      <td>Horticulture</td>\n",
       "      <td>Cabbages</td>\n",
       "      <td>Ext Bag</td>\n",
       "      <td>126</td>\n",
       "      <td>KES2205.00</td>\n",
       "      <td>01/01/2012 12:00:00 AM</td>\n",
       "      <td>0</td>\n",
       "    </tr>\n",
       "    <tr>\n",
       "      <th>1</th>\n",
       "      <td>Horticulture</td>\n",
       "      <td>Cooking Bananas</td>\n",
       "      <td>Med Bunch</td>\n",
       "      <td>22</td>\n",
       "      <td>KES511.00</td>\n",
       "      <td>01/01/2012 12:00:00 AM</td>\n",
       "      <td>1</td>\n",
       "    </tr>\n",
       "    <tr>\n",
       "      <th>2</th>\n",
       "      <td>Horticulture</td>\n",
       "      <td>Ripe Bananas</td>\n",
       "      <td>Med Bunch</td>\n",
       "      <td>14</td>\n",
       "      <td>KES616.00</td>\n",
       "      <td>01/01/2012 12:00:00 AM</td>\n",
       "      <td>2</td>\n",
       "    </tr>\n",
       "    <tr>\n",
       "      <th>3</th>\n",
       "      <td>Horticulture</td>\n",
       "      <td>Carrots</td>\n",
       "      <td>Ext Bag</td>\n",
       "      <td>138</td>\n",
       "      <td>KES2833.00</td>\n",
       "      <td>01/01/2012 12:00:00 AM</td>\n",
       "      <td>3</td>\n",
       "    </tr>\n",
       "    <tr>\n",
       "      <th>4</th>\n",
       "      <td>Horticulture</td>\n",
       "      <td>Tomatoes</td>\n",
       "      <td>Lg Box</td>\n",
       "      <td>64</td>\n",
       "      <td>KES3411.00</td>\n",
       "      <td>01/01/2012 12:00:00 AM</td>\n",
       "      <td>4</td>\n",
       "    </tr>\n",
       "  </tbody>\n",
       "</table>\n",
       "</div>"
      ],
      "text/plain": [
       "  Produce_Variety   Commodity_Type       Unit  Volume_in_Kgs Values_in_Ksh  \\\n",
       "0    Horticulture         Cabbages    Ext Bag            126    KES2205.00   \n",
       "1    Horticulture  Cooking Bananas  Med Bunch             22     KES511.00   \n",
       "2    Horticulture     Ripe Bananas  Med Bunch             14     KES616.00   \n",
       "3    Horticulture          Carrots    Ext Bag            138    KES2833.00   \n",
       "4    Horticulture         Tomatoes     Lg Box             64    KES3411.00   \n",
       "\n",
       "                     Date  OBJECTID  \n",
       "0  01/01/2012 12:00:00 AM         0  \n",
       "1  01/01/2012 12:00:00 AM         1  \n",
       "2  01/01/2012 12:00:00 AM         2  \n",
       "3  01/01/2012 12:00:00 AM         3  \n",
       "4  01/01/2012 12:00:00 AM         4  "
      ]
     },
     "execution_count": 4,
     "metadata": {},
     "output_type": "execute_result"
    }
   ],
   "source": [
    "#getting a summary of the first 5 rows of our dataset.\n",
    "data.head()"
   ]
  },
  {
   "cell_type": "code",
   "execution_count": 5,
   "id": "a4089936",
   "metadata": {
    "papermill": {
     "duration": 0.106838,
     "end_time": "2021-09-09T14:58:40.600931",
     "exception": false,
     "start_time": "2021-09-09T14:58:40.494093",
     "status": "completed"
    },
    "tags": []
   },
   "outputs": [
    {
     "data": {
      "text/html": [
       "<div>\n",
       "<style scoped>\n",
       "    .dataframe tbody tr th:only-of-type {\n",
       "        vertical-align: middle;\n",
       "    }\n",
       "\n",
       "    .dataframe tbody tr th {\n",
       "        vertical-align: top;\n",
       "    }\n",
       "\n",
       "    .dataframe thead th {\n",
       "        text-align: right;\n",
       "    }\n",
       "</style>\n",
       "<table border=\"1\" class=\"dataframe\">\n",
       "  <thead>\n",
       "    <tr style=\"text-align: right;\">\n",
       "      <th></th>\n",
       "      <th>Produce_Variety</th>\n",
       "      <th>Commodity_Type</th>\n",
       "      <th>Unit</th>\n",
       "      <th>Volume_in_Kgs</th>\n",
       "      <th>Values_in_Ksh</th>\n",
       "      <th>Date</th>\n",
       "      <th>OBJECTID</th>\n",
       "    </tr>\n",
       "  </thead>\n",
       "  <tbody>\n",
       "    <tr>\n",
       "      <th>1140</th>\n",
       "      <td>Legumes</td>\n",
       "      <td>Groundnuts</td>\n",
       "      <td>Bag</td>\n",
       "      <td>110</td>\n",
       "      <td>KES12986.00</td>\n",
       "      <td>12/25/2015 12:00:00 AM</td>\n",
       "      <td>1140</td>\n",
       "    </tr>\n",
       "    <tr>\n",
       "      <th>1141</th>\n",
       "      <td>Roots &amp; Tubers</td>\n",
       "      <td>Red Irish Potatoes</td>\n",
       "      <td>Bag</td>\n",
       "      <td>110</td>\n",
       "      <td>KES2805.00</td>\n",
       "      <td>12/25/2015 12:00:00 AM</td>\n",
       "      <td>1141</td>\n",
       "    </tr>\n",
       "    <tr>\n",
       "      <th>1142</th>\n",
       "      <td>Roots &amp; Tubers</td>\n",
       "      <td>White Irish Potatoes</td>\n",
       "      <td>Bag</td>\n",
       "      <td>110</td>\n",
       "      <td>KES2885.00</td>\n",
       "      <td>12/25/2015 12:00:00 AM</td>\n",
       "      <td>1142</td>\n",
       "    </tr>\n",
       "    <tr>\n",
       "      <th>1143</th>\n",
       "      <td>Roots &amp; Tubers</td>\n",
       "      <td>Cassava Fresh</td>\n",
       "      <td>Bag</td>\n",
       "      <td>99</td>\n",
       "      <td>KES2097.00</td>\n",
       "      <td>12/25/2015 12:00:00 AM</td>\n",
       "      <td>1143</td>\n",
       "    </tr>\n",
       "    <tr>\n",
       "      <th>1144</th>\n",
       "      <td>Roots &amp; Tubers</td>\n",
       "      <td>Sweet Potatoes</td>\n",
       "      <td>Bag</td>\n",
       "      <td>98</td>\n",
       "      <td>KES3067.00</td>\n",
       "      <td>12/25/2015 12:00:00 AM</td>\n",
       "      <td>1144</td>\n",
       "    </tr>\n",
       "  </tbody>\n",
       "</table>\n",
       "</div>"
      ],
      "text/plain": [
       "     Produce_Variety        Commodity_Type Unit  Volume_in_Kgs Values_in_Ksh  \\\n",
       "1140         Legumes            Groundnuts  Bag            110   KES12986.00   \n",
       "1141  Roots & Tubers    Red Irish Potatoes  Bag            110    KES2805.00   \n",
       "1142  Roots & Tubers  White Irish Potatoes  Bag            110    KES2885.00   \n",
       "1143  Roots & Tubers         Cassava Fresh  Bag             99    KES2097.00   \n",
       "1144  Roots & Tubers        Sweet Potatoes  Bag             98    KES3067.00   \n",
       "\n",
       "                        Date  OBJECTID  \n",
       "1140  12/25/2015 12:00:00 AM      1140  \n",
       "1141  12/25/2015 12:00:00 AM      1141  \n",
       "1142  12/25/2015 12:00:00 AM      1142  \n",
       "1143  12/25/2015 12:00:00 AM      1143  \n",
       "1144  12/25/2015 12:00:00 AM      1144  "
      ]
     },
     "execution_count": 5,
     "metadata": {},
     "output_type": "execute_result"
    }
   ],
   "source": [
    "#getting a summary of the last  5 rows of our dataset\n",
    "#You can specify if you want more rows by specifying a number inside the .head() or .tail()\n",
    "data.tail()"
   ]
  },
  {
   "cell_type": "code",
   "execution_count": 6,
   "id": "9dd1a02e",
   "metadata": {
    "papermill": {
     "duration": 0.104787,
     "end_time": "2021-09-09T14:58:40.800201",
     "exception": false,
     "start_time": "2021-09-09T14:58:40.695414",
     "status": "completed"
    },
    "tags": []
   },
   "outputs": [],
   "source": [
    "#remove OBJECTID column we don't need it in our dataset as it's not a feature basis for price prediction\n",
    "data.drop('OBJECTID',inplace=True,axis=1)\n"
   ]
  },
  {
   "cell_type": "markdown",
   "id": "895d5796",
   "metadata": {
    "papermill": {
     "duration": 0.088459,
     "end_time": "2021-09-09T14:58:40.980695",
     "exception": false,
     "start_time": "2021-09-09T14:58:40.892236",
     "status": "completed"
    },
    "tags": []
   },
   "source": [
    "#### Check for missing values"
   ]
  },
  {
   "cell_type": "code",
   "execution_count": 7,
   "id": "7b132427",
   "metadata": {
    "papermill": {
     "duration": 0.109699,
     "end_time": "2021-09-09T14:58:41.183725",
     "exception": false,
     "start_time": "2021-09-09T14:58:41.074026",
     "status": "completed"
    },
    "tags": []
   },
   "outputs": [
    {
     "data": {
      "text/html": [
       "<div>\n",
       "<style scoped>\n",
       "    .dataframe tbody tr th:only-of-type {\n",
       "        vertical-align: middle;\n",
       "    }\n",
       "\n",
       "    .dataframe tbody tr th {\n",
       "        vertical-align: top;\n",
       "    }\n",
       "\n",
       "    .dataframe thead th {\n",
       "        text-align: right;\n",
       "    }\n",
       "</style>\n",
       "<table border=\"1\" class=\"dataframe\">\n",
       "  <thead>\n",
       "    <tr style=\"text-align: right;\">\n",
       "      <th></th>\n",
       "      <th>Produce_Variety</th>\n",
       "      <th>Commodity_Type</th>\n",
       "      <th>Unit</th>\n",
       "      <th>Volume_in_Kgs</th>\n",
       "      <th>Values_in_Ksh</th>\n",
       "      <th>Date</th>\n",
       "    </tr>\n",
       "  </thead>\n",
       "  <tbody>\n",
       "    <tr>\n",
       "      <th>978</th>\n",
       "      <td>Legumes</td>\n",
       "      <td>Groundnuts</td>\n",
       "      <td>Bag</td>\n",
       "      <td>110</td>\n",
       "      <td>NaN</td>\n",
       "      <td>03/01/2015 12:00:00 AM</td>\n",
       "    </tr>\n",
       "    <tr>\n",
       "      <th>996</th>\n",
       "      <td>Legumes</td>\n",
       "      <td>Groundnuts</td>\n",
       "      <td>Bag</td>\n",
       "      <td>110</td>\n",
       "      <td>NaN</td>\n",
       "      <td>04/01/2015 12:00:00 AM</td>\n",
       "    </tr>\n",
       "  </tbody>\n",
       "</table>\n",
       "</div>"
      ],
      "text/plain": [
       "    Produce_Variety Commodity_Type Unit  Volume_in_Kgs Values_in_Ksh  \\\n",
       "978         Legumes     Groundnuts  Bag            110           NaN   \n",
       "996         Legumes     Groundnuts  Bag            110           NaN   \n",
       "\n",
       "                       Date  \n",
       "978  03/01/2015 12:00:00 AM  \n",
       "996  04/01/2015 12:00:00 AM  "
      ]
     },
     "execution_count": 7,
     "metadata": {},
     "output_type": "execute_result"
    }
   ],
   "source": [
    "#find missing values in columns cumulativey\n",
    "data.isna().sum()\n",
    "#filter rows with null data values\n",
    "null_data=data.isna()\n",
    "row_null_data=null_data.any(axis=1)\n",
    "data[row_null_data]\n"
   ]
  },
  {
   "cell_type": "markdown",
   "id": "d82d2e6e",
   "metadata": {
    "papermill": {
     "duration": 0.091256,
     "end_time": "2021-09-09T14:58:41.366611",
     "exception": false,
     "start_time": "2021-09-09T14:58:41.275355",
     "status": "completed"
    },
    "tags": []
   },
   "source": [
    "Our data has two rows that have missing values all of which fall under the Values_in_Ksh column \n",
    "    we shall replace the null values with the mean of the values in that column."
   ]
  },
  {
   "cell_type": "markdown",
   "id": "a3228b26",
   "metadata": {
    "papermill": {
     "duration": 0.090612,
     "end_time": "2021-09-09T14:58:41.549565",
     "exception": false,
     "start_time": "2021-09-09T14:58:41.458953",
     "status": "completed"
    },
    "tags": []
   },
   "source": [
    "#### Check for Duplicates"
   ]
  },
  {
   "cell_type": "code",
   "execution_count": 8,
   "id": "e2c659cf",
   "metadata": {
    "papermill": {
     "duration": 0.108503,
     "end_time": "2021-09-09T14:58:41.748347",
     "exception": false,
     "start_time": "2021-09-09T14:58:41.639844",
     "status": "completed"
    },
    "tags": []
   },
   "outputs": [
    {
     "data": {
      "text/plain": [
       "False"
      ]
     },
     "execution_count": 8,
     "metadata": {},
     "output_type": "execute_result"
    }
   ],
   "source": [
    "#Our data has no Duplicates as it returns false \n",
    "data = data.drop_duplicates() \n",
    "data.duplicated().values.any()"
   ]
  },
  {
   "cell_type": "code",
   "execution_count": 9,
   "id": "013cce89",
   "metadata": {
    "papermill": {
     "duration": 0.098981,
     "end_time": "2021-09-09T14:58:41.937816",
     "exception": false,
     "start_time": "2021-09-09T14:58:41.838835",
     "status": "completed"
    },
    "tags": []
   },
   "outputs": [
    {
     "data": {
      "text/plain": [
       "(1145, 6)"
      ]
     },
     "execution_count": 9,
     "metadata": {},
     "output_type": "execute_result"
    }
   ],
   "source": [
    "#Checking the shape of our data interms of rows and column numbers\n",
    "#The Datas is spread across 1145 rows and 6 columns that signify the various attributes\n",
    "data.shape"
   ]
  },
  {
   "cell_type": "markdown",
   "id": "8da89c4c",
   "metadata": {
    "papermill": {
     "duration": 0.093689,
     "end_time": "2021-09-09T14:58:42.124458",
     "exception": false,
     "start_time": "2021-09-09T14:58:42.030769",
     "status": "completed"
    },
    "tags": []
   },
   "source": [
    "#### Check the data types in our dataset"
   ]
  },
  {
   "cell_type": "code",
   "execution_count": 10,
   "id": "eeb7fcd8",
   "metadata": {
    "papermill": {
     "duration": 0.101588,
     "end_time": "2021-09-09T14:58:42.320345",
     "exception": false,
     "start_time": "2021-09-09T14:58:42.218757",
     "status": "completed"
    },
    "scrolled": true,
    "tags": []
   },
   "outputs": [
    {
     "data": {
      "text/plain": [
       "Produce_Variety    object\n",
       "Commodity_Type     object\n",
       "Unit               object\n",
       "Volume_in_Kgs       int64\n",
       "Values_in_Ksh      object\n",
       "Date               object\n",
       "dtype: object"
      ]
     },
     "execution_count": 10,
     "metadata": {},
     "output_type": "execute_result"
    }
   ],
   "source": [
    "data.dtypes"
   ]
  },
  {
   "cell_type": "markdown",
   "id": "c19fe5aa",
   "metadata": {
    "papermill": {
     "duration": 0.091531,
     "end_time": "2021-09-09T14:58:42.505643",
     "exception": false,
     "start_time": "2021-09-09T14:58:42.414112",
     "status": "completed"
    },
    "tags": []
   },
   "source": [
    "Currently the data has only one integer data type to be able to work with the values_in_ksh,Date and Unit columns we shall need to \n",
    "convert them to float,data_time,and integer data types repectively"
   ]
  },
  {
   "cell_type": "code",
   "execution_count": 11,
   "id": "4f6fa628",
   "metadata": {
    "papermill": {
     "duration": 0.103354,
     "end_time": "2021-09-09T14:58:42.700800",
     "exception": false,
     "start_time": "2021-09-09T14:58:42.597446",
     "status": "completed"
    },
    "scrolled": true,
    "tags": []
   },
   "outputs": [
    {
     "data": {
      "text/plain": [
       "90     295\n",
       "13      93\n",
       "50      93\n",
       "110     72\n",
       "126     62\n",
       "51      55\n",
       "142     31\n",
       "38      31\n",
       "64      31\n",
       "44      31\n",
       "39      31\n",
       "22      31\n",
       "57      31\n",
       "93      31\n",
       "95      31\n",
       "25      31\n",
       "54      31\n",
       "138     31\n",
       "14      31\n",
       "115     24\n",
       "99      24\n",
       "98      24\n",
       "Name: Volume_in_Kgs, dtype: int64"
      ]
     },
     "execution_count": 11,
     "metadata": {},
     "output_type": "execute_result"
    }
   ],
   "source": [
    "#Which it the most common type weight in Kgs that the commodities are packaged in and how it varies across our data\n",
    "data['Volume_in_Kgs'].value_counts()"
   ]
  },
  {
   "cell_type": "markdown",
   "id": "d5a04664",
   "metadata": {
    "papermill": {
     "duration": 0.094123,
     "end_time": "2021-09-09T14:58:42.888621",
     "exception": false,
     "start_time": "2021-09-09T14:58:42.794498",
     "status": "completed"
    },
    "tags": []
   },
   "source": [
    "Most of the crop commodities sold are packaged in weight of 90Kg"
   ]
  },
  {
   "cell_type": "code",
   "execution_count": 12,
   "id": "39ff1161",
   "metadata": {
    "papermill": {
     "duration": 0.105875,
     "end_time": "2021-09-09T14:58:43.135486",
     "exception": false,
     "start_time": "2021-09-09T14:58:43.029611",
     "status": "completed"
    },
    "tags": []
   },
   "outputs": [
    {
     "data": {
      "text/plain": [
       "Bag          780\n",
       "Ext Bag       86\n",
       "Med Bunch     62\n",
       "Lg Box        62\n",
       "net           62\n",
       "crate         31\n",
       "Sm Basket     31\n",
       "Dozen         31\n",
       "Name: Unit, dtype: int64"
      ]
     },
     "execution_count": 12,
     "metadata": {},
     "output_type": "execute_result"
    }
   ],
   "source": [
    "#Finding the packaging  with the highest Unit in Kgs and the variation accross our data\n",
    "\n",
    "data['Unit'].value_counts()"
   ]
  },
  {
   "cell_type": "markdown",
   "id": "680e63c8",
   "metadata": {
    "papermill": {
     "duration": 0.092975,
     "end_time": "2021-09-09T14:58:43.323749",
     "exception": false,
     "start_time": "2021-09-09T14:58:43.230774",
     "status": "completed"
    },
    "tags": []
   },
   "source": [
    "Most of the commodity types sold in the market are packaged in Bags"
   ]
  },
  {
   "cell_type": "code",
   "execution_count": 13,
   "id": "bd7bf8af",
   "metadata": {
    "papermill": {
     "duration": 0.106684,
     "end_time": "2021-09-09T14:58:43.527140",
     "exception": false,
     "start_time": "2021-09-09T14:58:43.420456",
     "status": "completed"
    },
    "scrolled": true,
    "tags": []
   },
   "outputs": [
    {
     "data": {
      "text/plain": [
       "Horticulture      713\n",
       "Legumes           216\n",
       "Cereals           120\n",
       "Roots & Tubers     96\n",
       "Name: Produce_Variety, dtype: int64"
      ]
     },
     "execution_count": 13,
     "metadata": {},
     "output_type": "execute_result"
    }
   ],
   "source": [
    "#Finding the total count of values in Produce Variety Column\n",
    "data['Produce_Variety'].value_counts()\n"
   ]
  },
  {
   "cell_type": "markdown",
   "id": "f3138cb6",
   "metadata": {
    "papermill": {
     "duration": 0.097335,
     "end_time": "2021-09-09T14:58:43.722443",
     "exception": false,
     "start_time": "2021-09-09T14:58:43.625108",
     "status": "completed"
    },
    "tags": []
   },
   "source": [
    "Horticultural crop products are the ones that are sold most"
   ]
  },
  {
   "cell_type": "markdown",
   "id": "8cf794ca",
   "metadata": {
    "papermill": {
     "duration": 0.096689,
     "end_time": "2021-09-09T14:58:43.917682",
     "exception": false,
     "start_time": "2021-09-09T14:58:43.820993",
     "status": "completed"
    },
    "tags": []
   },
   "source": [
    "### Feature Engineering"
   ]
  },
  {
   "cell_type": "markdown",
   "id": "60fccd31",
   "metadata": {
    "papermill": {
     "duration": 0.096497,
     "end_time": "2021-09-09T14:58:44.109815",
     "exception": false,
     "start_time": "2021-09-09T14:58:44.013318",
     "status": "completed"
    },
    "tags": []
   },
   "source": [
    "It involves manipulating the data fields in ways that can help fit our model better and improve it’s accuracy."
   ]
  },
  {
   "cell_type": "markdown",
   "id": "a2a8a1cf",
   "metadata": {
    "papermill": {
     "duration": 0.094968,
     "end_time": "2021-09-09T14:58:44.301996",
     "exception": false,
     "start_time": "2021-09-09T14:58:44.207028",
     "status": "completed"
    },
    "tags": []
   },
   "source": [
    "    When it comes to  regression analysis, all data fields should be continuous. \n",
    "    If there are incompatible data types, one needs to either convert them or drop them\n",
    "    especially when they don’t contribute much to the desired output.\n",
    "    \n",
    "    For the days of the week, assign them respective dummy values.\n",
    "    \n",
    "    If the data is ordinal (first, second, third…), convert it to continuous"
   ]
  },
  {
   "cell_type": "code",
   "execution_count": 14,
   "id": "d52e5642",
   "metadata": {
    "papermill": {
     "duration": 0.112565,
     "end_time": "2021-09-09T14:58:44.508973",
     "exception": false,
     "start_time": "2021-09-09T14:58:44.396408",
     "status": "completed"
    },
    "tags": []
   },
   "outputs": [],
   "source": [
    "#using ordinal encoder to encode categorical values into numeric\n",
    "#We use this categorical data encoding technique when the categorical feature is ordinal. \n",
    "#In this case, retaining the order is important. Hence encoding should reflect the sequence.\n",
    "ord_enc = OrdinalEncoder()\n",
    "data['produce_variety']=ord_enc.fit_transform(data[['Produce_Variety']]).astype(int)\n",
    "data['Type_of_Commodity']=ord_enc.fit_transform(data[['Commodity_Type']]).astype(int)\n",
    "data['Package_Type']=ord_enc.fit_transform(data[['Unit']]).astype(int).astype(int)\n",
    "#create package_weight column\n",
    "data['package_weight(Kg)']=data['Volume_in_Kgs']"
   ]
  },
  {
   "cell_type": "code",
   "execution_count": 15,
   "id": "cc6b1a69",
   "metadata": {
    "papermill": {
     "duration": 0.109735,
     "end_time": "2021-09-09T14:58:44.713223",
     "exception": false,
     "start_time": "2021-09-09T14:58:44.603488",
     "status": "completed"
    },
    "tags": []
   },
   "outputs": [],
   "source": [
    "#create day ,month and year columns\n",
    "data['Date']=data['Date'].apply(lambda x: x.split(' ')[0])\n",
    "data['Day']=data['Date'].apply(lambda x: x.split('/')[1]).astype(int)\n",
    "data['Month']=data['Date'].apply(lambda x: x.split('/')[0]).astype(int)\n",
    "data['Year']=data['Date'].apply(lambda x: x.split('/')[2]).astype(int)\n"
   ]
  },
  {
   "cell_type": "code",
   "execution_count": 16,
   "id": "24cc39fd",
   "metadata": {
    "papermill": {
     "duration": 0.111299,
     "end_time": "2021-09-09T14:58:44.919761",
     "exception": false,
     "start_time": "2021-09-09T14:58:44.808462",
     "status": "completed"
    },
    "scrolled": true,
    "tags": []
   },
   "outputs": [
    {
     "data": {
      "text/plain": [
       "Produce_Variety       0\n",
       "Commodity_Type        0\n",
       "Unit                  0\n",
       "Volume_in_Kgs         0\n",
       "Values_in_Ksh         2\n",
       "Date                  0\n",
       "produce_variety       0\n",
       "Type_of_Commodity     0\n",
       "Package_Type          0\n",
       "package_weight(Kg)    0\n",
       "Day                   0\n",
       "Month                 0\n",
       "Year                  0\n",
       "Price                 2\n",
       "dtype: int64"
      ]
     },
     "execution_count": 16,
     "metadata": {},
     "output_type": "execute_result"
    }
   ],
   "source": [
    "#remove Kes in the Value_in_Ksh column values which is part of data cleaning to better utilised the values\n",
    "#This is  our target value bets practice placedm as the last column in our dataset. \n",
    "data['Price']=data['Values_in_Ksh'].str.replace('KES',\" \").replace(\" \",\" \").astype(float)\n",
    "data.isna().sum()"
   ]
  },
  {
   "cell_type": "markdown",
   "id": "58a3ab75",
   "metadata": {
    "papermill": {
     "duration": 0.096795,
     "end_time": "2021-09-09T14:58:45.112007",
     "exception": false,
     "start_time": "2021-09-09T14:58:45.015212",
     "status": "completed"
    },
    "tags": []
   },
   "source": [
    "#### Replacing missing  values"
   ]
  },
  {
   "cell_type": "code",
   "execution_count": 17,
   "id": "7e5ee4b3",
   "metadata": {
    "papermill": {
     "duration": 0.10814,
     "end_time": "2021-09-09T14:58:45.319068",
     "exception": false,
     "start_time": "2021-09-09T14:58:45.210928",
     "status": "completed"
    },
    "tags": []
   },
   "outputs": [],
   "source": [
    "#the NAN values in Price column \n",
    "data.isna().sum()\n",
    "#replace them with mean of that column so that we don't have NAN values in our dataset\n",
    "data['Price']=data['Price'].fillna((data['Price'].mean()))\n"
   ]
  },
  {
   "cell_type": "code",
   "execution_count": 18,
   "id": "5114ee1f",
   "metadata": {
    "papermill": {
     "duration": 0.138998,
     "end_time": "2021-09-09T14:58:45.555904",
     "exception": false,
     "start_time": "2021-09-09T14:58:45.416906",
     "status": "completed"
    },
    "tags": []
   },
   "outputs": [
    {
     "data": {
      "text/html": [
       "<div>\n",
       "<style scoped>\n",
       "    .dataframe tbody tr th:only-of-type {\n",
       "        vertical-align: middle;\n",
       "    }\n",
       "\n",
       "    .dataframe tbody tr th {\n",
       "        vertical-align: top;\n",
       "    }\n",
       "\n",
       "    .dataframe thead th {\n",
       "        text-align: right;\n",
       "    }\n",
       "</style>\n",
       "<table border=\"1\" class=\"dataframe\">\n",
       "  <thead>\n",
       "    <tr style=\"text-align: right;\">\n",
       "      <th></th>\n",
       "      <th>Volume_in_Kgs</th>\n",
       "      <th>produce_variety</th>\n",
       "      <th>Type_of_Commodity</th>\n",
       "      <th>Package_Type</th>\n",
       "      <th>package_weight(Kg)</th>\n",
       "      <th>Day</th>\n",
       "      <th>Month</th>\n",
       "      <th>Year</th>\n",
       "      <th>Price</th>\n",
       "    </tr>\n",
       "  </thead>\n",
       "  <tbody>\n",
       "    <tr>\n",
       "      <th>count</th>\n",
       "      <td>1145.000000</td>\n",
       "      <td>1145.000000</td>\n",
       "      <td>1145.000000</td>\n",
       "      <td>1145.000000</td>\n",
       "      <td>1145.000000</td>\n",
       "      <td>1145.000000</td>\n",
       "      <td>1145.000000</td>\n",
       "      <td>1145.000000</td>\n",
       "      <td>1145.000000</td>\n",
       "    </tr>\n",
       "    <tr>\n",
       "      <th>mean</th>\n",
       "      <td>73.370306</td>\n",
       "      <td>1.251528</td>\n",
       "      <td>20.024454</td>\n",
       "      <td>1.233188</td>\n",
       "      <td>73.370306</td>\n",
       "      <td>2.886463</td>\n",
       "      <td>6.148472</td>\n",
       "      <td>2013.417467</td>\n",
       "      <td>3188.371829</td>\n",
       "    </tr>\n",
       "    <tr>\n",
       "      <th>std</th>\n",
       "      <td>36.564162</td>\n",
       "      <td>0.752362</td>\n",
       "      <td>11.773552</td>\n",
       "      <td>2.114043</td>\n",
       "      <td>36.564162</td>\n",
       "      <td>6.461643</td>\n",
       "      <td>3.401301</td>\n",
       "      <td>1.176864</td>\n",
       "      <td>2376.371660</td>\n",
       "    </tr>\n",
       "    <tr>\n",
       "      <th>min</th>\n",
       "      <td>13.000000</td>\n",
       "      <td>0.000000</td>\n",
       "      <td>0.000000</td>\n",
       "      <td>0.000000</td>\n",
       "      <td>13.000000</td>\n",
       "      <td>1.000000</td>\n",
       "      <td>1.000000</td>\n",
       "      <td>2012.000000</td>\n",
       "      <td>443.000000</td>\n",
       "    </tr>\n",
       "    <tr>\n",
       "      <th>25%</th>\n",
       "      <td>50.000000</td>\n",
       "      <td>1.000000</td>\n",
       "      <td>10.000000</td>\n",
       "      <td>0.000000</td>\n",
       "      <td>50.000000</td>\n",
       "      <td>1.000000</td>\n",
       "      <td>3.000000</td>\n",
       "      <td>2013.000000</td>\n",
       "      <td>1720.000000</td>\n",
       "    </tr>\n",
       "    <tr>\n",
       "      <th>50%</th>\n",
       "      <td>90.000000</td>\n",
       "      <td>1.000000</td>\n",
       "      <td>21.000000</td>\n",
       "      <td>0.000000</td>\n",
       "      <td>90.000000</td>\n",
       "      <td>1.000000</td>\n",
       "      <td>6.000000</td>\n",
       "      <td>2013.000000</td>\n",
       "      <td>2610.000000</td>\n",
       "    </tr>\n",
       "    <tr>\n",
       "      <th>75%</th>\n",
       "      <td>95.000000</td>\n",
       "      <td>2.000000</td>\n",
       "      <td>30.000000</td>\n",
       "      <td>2.000000</td>\n",
       "      <td>95.000000</td>\n",
       "      <td>1.000000</td>\n",
       "      <td>9.000000</td>\n",
       "      <td>2015.000000</td>\n",
       "      <td>3776.000000</td>\n",
       "    </tr>\n",
       "    <tr>\n",
       "      <th>max</th>\n",
       "      <td>142.000000</td>\n",
       "      <td>3.000000</td>\n",
       "      <td>40.000000</td>\n",
       "      <td>7.000000</td>\n",
       "      <td>142.000000</td>\n",
       "      <td>25.000000</td>\n",
       "      <td>12.000000</td>\n",
       "      <td>2015.000000</td>\n",
       "      <td>13713.000000</td>\n",
       "    </tr>\n",
       "  </tbody>\n",
       "</table>\n",
       "</div>"
      ],
      "text/plain": [
       "       Volume_in_Kgs  produce_variety  Type_of_Commodity  Package_Type  \\\n",
       "count    1145.000000      1145.000000        1145.000000   1145.000000   \n",
       "mean       73.370306         1.251528          20.024454      1.233188   \n",
       "std        36.564162         0.752362          11.773552      2.114043   \n",
       "min        13.000000         0.000000           0.000000      0.000000   \n",
       "25%        50.000000         1.000000          10.000000      0.000000   \n",
       "50%        90.000000         1.000000          21.000000      0.000000   \n",
       "75%        95.000000         2.000000          30.000000      2.000000   \n",
       "max       142.000000         3.000000          40.000000      7.000000   \n",
       "\n",
       "       package_weight(Kg)          Day        Month         Year         Price  \n",
       "count         1145.000000  1145.000000  1145.000000  1145.000000   1145.000000  \n",
       "mean            73.370306     2.886463     6.148472  2013.417467   3188.371829  \n",
       "std             36.564162     6.461643     3.401301     1.176864   2376.371660  \n",
       "min             13.000000     1.000000     1.000000  2012.000000    443.000000  \n",
       "25%             50.000000     1.000000     3.000000  2013.000000   1720.000000  \n",
       "50%             90.000000     1.000000     6.000000  2013.000000   2610.000000  \n",
       "75%             95.000000     1.000000     9.000000  2015.000000   3776.000000  \n",
       "max            142.000000    25.000000    12.000000  2015.000000  13713.000000  "
      ]
     },
     "execution_count": 18,
     "metadata": {},
     "output_type": "execute_result"
    }
   ],
   "source": [
    "#getting a statistical  overview of the data\n",
    "data.describe()"
   ]
  },
  {
   "cell_type": "code",
   "execution_count": 19,
   "id": "8619b2d2",
   "metadata": {
    "papermill": {
     "duration": 0.115581,
     "end_time": "2021-09-09T14:58:45.769127",
     "exception": false,
     "start_time": "2021-09-09T14:58:45.653546",
     "status": "completed"
    },
    "scrolled": true,
    "tags": []
   },
   "outputs": [
    {
     "name": "stdout",
     "output_type": "stream",
     "text": [
      "<class 'pandas.core.frame.DataFrame'>\n",
      "Int64Index: 1145 entries, 0 to 1144\n",
      "Data columns (total 14 columns):\n",
      " #   Column              Non-Null Count  Dtype  \n",
      "---  ------              --------------  -----  \n",
      " 0   Produce_Variety     1145 non-null   object \n",
      " 1   Commodity_Type      1145 non-null   object \n",
      " 2   Unit                1145 non-null   object \n",
      " 3   Volume_in_Kgs       1145 non-null   int64  \n",
      " 4   Values_in_Ksh       1143 non-null   object \n",
      " 5   Date                1145 non-null   object \n",
      " 6   produce_variety     1145 non-null   int32  \n",
      " 7   Type_of_Commodity   1145 non-null   int32  \n",
      " 8   Package_Type        1145 non-null   int32  \n",
      " 9   package_weight(Kg)  1145 non-null   int64  \n",
      " 10  Day                 1145 non-null   int32  \n",
      " 11  Month               1145 non-null   int32  \n",
      " 12  Year                1145 non-null   int32  \n",
      " 13  Price               1145 non-null   float64\n",
      "dtypes: float64(1), int32(6), int64(2), object(5)\n",
      "memory usage: 107.3+ KB\n"
     ]
    }
   ],
   "source": [
    "#This shows the information concerning our dataset\n",
    "data.info()"
   ]
  },
  {
   "cell_type": "code",
   "execution_count": 20,
   "id": "955d7c0e",
   "metadata": {
    "papermill": {
     "duration": 0.101915,
     "end_time": "2021-09-09T14:58:45.967064",
     "exception": false,
     "start_time": "2021-09-09T14:58:45.865149",
     "status": "completed"
    },
    "tags": []
   },
   "outputs": [
    {
     "data": {
      "text/plain": [
       "Index(['Produce_Variety', 'Commodity_Type', 'Unit', 'Volume_in_Kgs',\n",
       "       'Values_in_Ksh', 'Date', 'produce_variety', 'Type_of_Commodity',\n",
       "       'Package_Type', 'package_weight(Kg)', 'Day', 'Month', 'Year', 'Price'],\n",
       "      dtype='object')"
      ]
     },
     "execution_count": 20,
     "metadata": {},
     "output_type": "execute_result"
    }
   ],
   "source": [
    "#Getting to see all the column names  in our dataset\n",
    "data.columns\n"
   ]
  },
  {
   "cell_type": "markdown",
   "id": "4f8f3ed6",
   "metadata": {
    "papermill": {
     "duration": 0.096664,
     "end_time": "2021-09-09T14:58:46.160219",
     "exception": false,
     "start_time": "2021-09-09T14:58:46.063555",
     "status": "completed"
    },
    "tags": []
   },
   "source": [
    "### Data Visualization\n",
    "In data visualization it helps us gain insight into the overall impact of one feature on another."
   ]
  },
  {
   "cell_type": "code",
   "execution_count": 21,
   "id": "abea6ee5",
   "metadata": {
    "papermill": {
     "duration": 0.693793,
     "end_time": "2021-09-09T14:58:46.951784",
     "exception": false,
     "start_time": "2021-09-09T14:58:46.257991",
     "status": "completed"
    },
    "tags": []
   },
   "outputs": [
    {
     "data": {
      "image/png": "[encoded data removed]",
      "text/plain": [
       "<Figure size 720x576 with 2 Axes>"
      ]
     },
     "metadata": {
      "needs_background": "light"
     },
     "output_type": "display_data"
    }
   ],
   "source": [
    "plt.figure(figsize=(10,8))\n",
    "plt.scatter(data['Year'],data['Commodity_Type'],c=data['Price'], cmap='cool', alpha = 0.8)\n",
    "plt.colorbar().set_label(\"Price Range in Ksh (approx 1usd -ksh109)\")\n",
    "plt.title('Commodity Prices')\n",
    "plt.xlabel('Year')\n",
    "plt.ylabel('Produce_Variety')\n",
    "plt.show()"
   ]
  },
  {
   "cell_type": "markdown",
   "id": "40e26710",
   "metadata": {
    "papermill": {
     "duration": 0.105679,
     "end_time": "2021-09-09T14:58:47.157554",
     "exception": false,
     "start_time": "2021-09-09T14:58:47.051875",
     "status": "completed"
    },
    "tags": []
   },
   "source": [
    "    From our scatter plot Most produce variety were sold in 2013 and 2015 compare to 2012. \n",
    "    Groundnuts,green grams,Dolichos(Njahi) and Beans of type(mwetemania ) among the crops       that fetched a high price of above ksh10,000($90)in 2013. \n",
    "    \n",
    "    Groundnuts maintained as steady market price also in 2015 followed by green grams and       Dolichos(Njahi).\n"
   ]
  },
  {
   "cell_type": "code",
   "execution_count": 22,
   "id": "16c195db",
   "metadata": {
    "papermill": {
     "duration": 0.355987,
     "end_time": "2021-09-09T14:58:47.611915",
     "exception": false,
     "start_time": "2021-09-09T14:58:47.255928",
     "status": "completed"
    },
    "tags": []
   },
   "outputs": [
    {
     "data": {
      "image/png": "[encoded data removed]",
      "text/plain": [
       "<Figure size 720x504 with 1 Axes>"
      ]
     },
     "metadata": {
      "needs_background": "light"
     },
     "output_type": "display_data"
    }
   ],
   "source": [
    "#The towers or bars of a histogram are called bins. \n",
    "#The height of each bin shows how many values from that data fall into that range\n",
    "plt.figure(figsize=(10, 7))\n",
    "plt.hist(data.Price, bins = 50, ec = 'black' ,color = '#f88f01',alpha=0.7)\n",
    "plt.xlabel('Median Price of Commodity Sold in the Market in Ksh', fontsize=16)\n",
    "plt.ylabel('Count ', fontsize=16)\n",
    "plt.title('Average Commodity Price in Ksh ', fontsize=16)\n",
    "plt.axvline(data['Price'].mean(), color='red', linestyle='dashed', linewidth=3, label='Average Price of Commodity Sold in the Market in Ksh')\n",
    "plt.style.use('dark_background')\n",
    "plt.show()\n"
   ]
  },
  {
   "cell_type": "markdown",
   "id": "5cda89ff",
   "metadata": {
    "papermill": {
     "duration": 0.099488,
     "end_time": "2021-09-09T14:58:47.811937",
     "exception": false,
     "start_time": "2021-09-09T14:58:47.712449",
     "status": "completed"
    },
    "tags": []
   },
   "source": [
    "From the generated  histogram we see the variation of our prices and  looks like most of commodity prices range between 2500-3200ksh"
   ]
  },
  {
   "cell_type": "code",
   "execution_count": 23,
   "id": "2e7f7c60",
   "metadata": {
    "papermill": {
     "duration": 0.626819,
     "end_time": "2021-09-09T14:58:48.538489",
     "exception": false,
     "start_time": "2021-09-09T14:58:47.911670",
     "status": "completed"
    },
    "scrolled": true,
    "tags": []
   },
   "outputs": [
    {
     "name": "stderr",
     "output_type": "stream",
     "text": [
      "C:\\Users\\Ramanjaneyareddy\\AppData\\Local\\Programs\\Python\\Python39\\lib\\site-packages\\seaborn\\distributions.py:2619: FutureWarning: `distplot` is a deprecated function and will be removed in a future version. Please adapt your code to use either `displot` (a figure-level function with similar flexibility) or `histplot` (an axes-level function for histograms).\n",
      "  warnings.warn(msg, FutureWarning)\n"
     ]
    },
    {
     "data": {
      "image/png": "[encoded data removed]",
      "text/plain": [
       "<Figure size 720x504 with 1 Axes>"
      ]
     },
     "metadata": {},
     "output_type": "display_data"
    }
   ],
   "source": [
    "#generating a distribution plot\n",
    "plt.figure(figsize=(10, 7))\n",
    "sns.distplot(data.Price, bins = 50 ,color = '#f88f01',hist=True)\n",
    "plt.style.use('dark_background')\n",
    "plt.xlabel('Median Price of Commodity Sold in the Market in Ksh', fontsize=16)\n",
    "plt.ylabel('Count ', fontsize=16)\n",
    "plt.title('Average Commodity Price in Ksh ', fontsize=16)\n",
    "plt.show()"
   ]
  },
  {
   "cell_type": "code",
   "execution_count": 24,
   "id": "6b8392fa",
   "metadata": {
    "papermill": {
     "duration": 0.11189,
     "end_time": "2021-09-09T14:58:48.750729",
     "exception": false,
     "start_time": "2021-09-09T14:58:48.638839",
     "status": "completed"
    },
    "tags": []
   },
   "outputs": [
    {
     "name": "stdout",
     "output_type": "stream",
     "text": [
      "The mean commodity Price is Ksh 3188\n",
      "The median commodity Price is Ksh 2610.0\n"
     ]
    }
   ],
   "source": [
    "mean_price=data['Price'].mean()\n",
    "median_price=data['Price'].median()\n",
    "print('The mean commodity Price is Ksh',round(mean_price))\n",
    "print('The median commodity Price is Ksh',median_price)"
   ]
  },
  {
   "cell_type": "code",
   "execution_count": 25,
   "id": "043f5bf0",
   "metadata": {
    "papermill": {
     "duration": 0.307201,
     "end_time": "2021-09-09T14:58:49.160000",
     "exception": false,
     "start_time": "2021-09-09T14:58:48.852799",
     "status": "completed"
    },
    "tags": []
   },
   "outputs": [
    {
     "data": {
      "image/png": "[encoded data removed]",
      "text/plain": [
       "<Figure size 720x432 with 1 Axes>"
      ]
     },
     "metadata": {},
     "output_type": "display_data"
    }
   ],
   "source": [
    "plt.figure(figsize=(10, 6))\n",
    "plt.hist(data['package_weight(Kg)'], bins=20, ec = 'black', color = 'green')\n",
    "plt.xlabel('Total Package Weight(KG) per commodity in the market', fontsize=16)\n",
    "plt.ylabel('Count', fontsize=16)\n",
    "plt.title('Average Package Weight(KG) distribution per commodity sold in the market', fontsize=16)\n",
    "plt.axvline(data['package_weight(Kg)'].mean(), color='#21209c', linestyle='dashed', linewidth=3, label='Average Number of Households in a block')\n",
    "plt.show()\n",
    "plt.style.use('dark_background')"
   ]
  },
  {
   "cell_type": "code",
   "execution_count": 26,
   "id": "dde490b7",
   "metadata": {
    "papermill": {
     "duration": 0.110549,
     "end_time": "2021-09-09T14:58:49.373358",
     "exception": false,
     "start_time": "2021-09-09T14:58:49.262809",
     "status": "completed"
    },
    "tags": []
   },
   "outputs": [
    {
     "name": "stdout",
     "output_type": "stream",
     "text": [
      "The mean package_weight in KG is: 73.37030567685589\n",
      "The median package_weight in KG is: 90.0\n"
     ]
    }
   ],
   "source": [
    "mean_pack_weight=data['package_weight(Kg)'].mean()\n",
    "print('The mean package_weight in KG is:',mean_pack_weight)\n",
    "mean_pack_median=data['package_weight(Kg)'].median()\n",
    "print('The median package_weight in KG is:',mean_pack_median)"
   ]
  },
  {
   "cell_type": "markdown",
   "id": "43c10b5f",
   "metadata": {
    "papermill": {
     "duration": 0.102299,
     "end_time": "2021-09-09T14:58:49.579164",
     "exception": false,
     "start_time": "2021-09-09T14:58:49.476865",
     "status": "completed"
    },
    "tags": []
   },
   "source": [
    "Most of the commodities sold in the Market are packaged in weight of 90KG,50KG, 10KG respectively "
   ]
  },
  {
   "cell_type": "code",
   "execution_count": 27,
   "id": "2c40a33c",
   "metadata": {
    "papermill": {
     "duration": 0.29103,
     "end_time": "2021-09-09T14:58:49.971648",
     "exception": false,
     "start_time": "2021-09-09T14:58:49.680618",
     "status": "completed"
    },
    "tags": []
   },
   "outputs": [
    {
     "data": {
      "image/png": "[encoded data removed]",
      "text/plain": [
       "<Figure size 720x504 with 1 Axes>"
      ]
     },
     "metadata": {},
     "output_type": "display_data"
    }
   ],
   "source": [
    "plt.figure(figsize=(10, 7))\n",
    "plt.hist(data['Month'], bins=20, ec = 'black', color = 'green')\n",
    "plt.xlabel('The Month in which commodities are sold in  the market', fontsize=16)\n",
    "plt.ylabel('Count', fontsize=16)\n",
    "plt.title('Average Monthly distribution commodities sold in the market', fontsize=16)\n",
    "plt.axvline(data['Month'].mean(), color='#21209c', linestyle='dashed', linewidth=3, label='Average Monthly distribution commodities sold in the market')\n",
    "plt.show()\n",
    "plt.style.use('dark_background')"
   ]
  },
  {
   "cell_type": "markdown",
   "id": "62dc7086",
   "metadata": {
    "papermill": {
     "duration": 0.129539,
     "end_time": "2021-09-09T14:58:50.208503",
     "exception": false,
     "start_time": "2021-09-09T14:58:50.078964",
     "status": "completed"
    },
    "tags": []
   },
   "source": [
    "On average most of the commodities in the market are sold between the months of January and July followed later on by the months of August to December\n"
   ]
  },
  {
   "cell_type": "code",
   "execution_count": 28,
   "id": "3510c488",
   "metadata": {
    "papermill": {
     "duration": 0.294957,
     "end_time": "2021-09-09T14:58:50.612546",
     "exception": false,
     "start_time": "2021-09-09T14:58:50.317589",
     "status": "completed"
    },
    "tags": []
   },
   "outputs": [
    {
     "data": {
      "text/plain": [
       "<AxesSubplot:>"
      ]
     },
     "execution_count": 28,
     "metadata": {},
     "output_type": "execute_result"
    },
    {
     "data": {
      "image/png": "[encoded data removed]",
      "text/plain": [
       "<Figure size 432x288 with 1 Axes>"
      ]
     },
     "metadata": {},
     "output_type": "display_data"
    }
   ],
   "source": [
    "#Here 2013 was a good year in that most commodities were sold during this period second 2015 and 2012\n",
    "data.Year.hist()"
   ]
  },
  {
   "cell_type": "code",
   "execution_count": 29,
   "id": "58fafe8b",
   "metadata": {
    "papermill": {
     "duration": 0.282002,
     "end_time": "2021-09-09T14:58:50.999460",
     "exception": false,
     "start_time": "2021-09-09T14:58:50.717458",
     "status": "completed"
    },
    "scrolled": true,
    "tags": []
   },
   "outputs": [
    {
     "data": {
      "text/plain": [
       "<AxesSubplot:>"
      ]
     },
     "execution_count": 29,
     "metadata": {},
     "output_type": "execute_result"
    },
    {
     "data": {
      "image/png": "[encoded data removed]",
      "text/plain": [
       "<Figure size 432x288 with 1 Axes>"
      ]
     },
     "metadata": {},
     "output_type": "display_data"
    }
   ],
   "source": [
    "#January and December are the months were alot of commodities were sold \n",
    "data.Month.hist()"
   ]
  },
  {
   "cell_type": "code",
   "execution_count": 30,
   "id": "c88dc453",
   "metadata": {
    "papermill": {
     "duration": 0.268951,
     "end_time": "2021-09-09T14:58:51.375726",
     "exception": false,
     "start_time": "2021-09-09T14:58:51.106775",
     "status": "completed"
    },
    "tags": []
   },
   "outputs": [
    {
     "data": {
      "text/plain": [
       "<AxesSubplot:>"
      ]
     },
     "execution_count": 30,
     "metadata": {},
     "output_type": "execute_result"
    },
    {
     "data": {
      "image/png": "[encoded data removed]",
      "text/plain": [
       "<Figure size 432x288 with 1 Axes>"
      ]
     },
     "metadata": {},
     "output_type": "display_data"
    }
   ],
   "source": [
    "#Are of products are solds between the first 3-4 days of the month then few are sold during 23-25 days of the month\n",
    "data.Day.hist()"
   ]
  },
  {
   "cell_type": "code",
   "execution_count": 31,
   "id": "3d41bf51",
   "metadata": {
    "papermill": {
     "duration": 0.116601,
     "end_time": "2021-09-09T14:58:51.598695",
     "exception": false,
     "start_time": "2021-09-09T14:58:51.482094",
     "status": "completed"
    },
    "tags": []
   },
   "outputs": [
    {
     "data": {
      "text/plain": [
       "Horticulture      713\n",
       "Legumes           216\n",
       "Cereals           120\n",
       "Roots & Tubers     96\n",
       "Name: Produce_Variety, dtype: int64"
      ]
     },
     "execution_count": 31,
     "metadata": {},
     "output_type": "execute_result"
    }
   ],
   "source": [
    "#The total of diffrent produce variety sold for the said period\n",
    "data['Produce_Variety'].value_counts()"
   ]
  },
  {
   "cell_type": "code",
   "execution_count": 32,
   "id": "973ed898",
   "metadata": {
    "papermill": {
     "duration": 0.258789,
     "end_time": "2021-09-09T14:58:51.962305",
     "exception": false,
     "start_time": "2021-09-09T14:58:51.703516",
     "status": "completed"
    },
    "tags": []
   },
   "outputs": [
    {
     "data": {
      "text/plain": [
       "<AxesSubplot:>"
      ]
     },
     "execution_count": 32,
     "metadata": {},
     "output_type": "execute_result"
    },
    {
     "data": {
      "image/png": "[encoded data removed]",
      "text/plain": [
       "<Figure size 432x288 with 1 Axes>"
      ]
     },
     "metadata": {},
     "output_type": "display_data"
    }
   ],
   "source": [
    "#From our histogram horticulture was the produced variety that was sold most\n",
    "data.Produce_Variety.hist()"
   ]
  },
  {
   "cell_type": "code",
   "execution_count": null,
   "id": "0b6a6bec",
   "metadata": {
    "papermill": {
     "duration": 0.108526,
     "end_time": "2021-09-09T14:58:52.179010",
     "exception": false,
     "start_time": "2021-09-09T14:58:52.070484",
     "status": "completed"
    },
    "tags": []
   },
   "outputs": [],
   "source": []
  },
  {
   "cell_type": "markdown",
   "id": "18859e3f",
   "metadata": {
    "papermill": {
     "duration": 0.109165,
     "end_time": "2021-09-09T14:58:52.396978",
     "exception": false,
     "start_time": "2021-09-09T14:58:52.287813",
     "status": "completed"
    },
    "tags": []
   },
   "source": [
    "#### Correlation\n",
    "    Correlation among attributes is an important parameter to know, \n",
    "    since variables that are highly correlated to each other or the target variable often add bias to linear models,\n",
    "    providing false predictions."
   ]
  },
  {
   "cell_type": "code",
   "execution_count": 33,
   "id": "6519c259",
   "metadata": {
    "papermill": {
     "duration": 0.130021,
     "end_time": "2021-09-09T14:58:52.633988",
     "exception": false,
     "start_time": "2021-09-09T14:58:52.503967",
     "status": "completed"
    },
    "tags": []
   },
   "outputs": [
    {
     "data": {
      "text/html": [
       "<div>\n",
       "<style scoped>\n",
       "    .dataframe tbody tr th:only-of-type {\n",
       "        vertical-align: middle;\n",
       "    }\n",
       "\n",
       "    .dataframe tbody tr th {\n",
       "        vertical-align: top;\n",
       "    }\n",
       "\n",
       "    .dataframe thead th {\n",
       "        text-align: right;\n",
       "    }\n",
       "</style>\n",
       "<table border=\"1\" class=\"dataframe\">\n",
       "  <thead>\n",
       "    <tr style=\"text-align: right;\">\n",
       "      <th></th>\n",
       "      <th>produce_variety</th>\n",
       "      <th>Type_of_Commodity</th>\n",
       "      <th>Package_Type</th>\n",
       "      <th>package_weight(Kg)</th>\n",
       "      <th>Day</th>\n",
       "      <th>Month</th>\n",
       "      <th>Year</th>\n",
       "      <th>Price</th>\n",
       "    </tr>\n",
       "  </thead>\n",
       "  <tbody>\n",
       "    <tr>\n",
       "      <th>produce_variety</th>\n",
       "      <td>1.000000</td>\n",
       "      <td>-0.033852</td>\n",
       "      <td>-0.221569</td>\n",
       "      <td>0.205566</td>\n",
       "      <td>0.161232</td>\n",
       "      <td>0.034582</td>\n",
       "      <td>0.165628</td>\n",
       "      <td>0.292545</td>\n",
       "    </tr>\n",
       "    <tr>\n",
       "      <th>Type_of_Commodity</th>\n",
       "      <td>-0.033852</td>\n",
       "      <td>1.000000</td>\n",
       "      <td>0.117949</td>\n",
       "      <td>-0.055400</td>\n",
       "      <td>-0.006122</td>\n",
       "      <td>-0.001313</td>\n",
       "      <td>-0.006289</td>\n",
       "      <td>-0.172771</td>\n",
       "    </tr>\n",
       "    <tr>\n",
       "      <th>Package_Type</th>\n",
       "      <td>-0.221569</td>\n",
       "      <td>0.117949</td>\n",
       "      <td>1.000000</td>\n",
       "      <td>-0.555234</td>\n",
       "      <td>-0.155093</td>\n",
       "      <td>-0.033266</td>\n",
       "      <td>-0.159322</td>\n",
       "      <td>-0.411439</td>\n",
       "    </tr>\n",
       "    <tr>\n",
       "      <th>package_weight(Kg)</th>\n",
       "      <td>0.205566</td>\n",
       "      <td>-0.055400</td>\n",
       "      <td>-0.555234</td>\n",
       "      <td>1.000000</td>\n",
       "      <td>0.160867</td>\n",
       "      <td>0.034504</td>\n",
       "      <td>0.165253</td>\n",
       "      <td>0.418381</td>\n",
       "    </tr>\n",
       "    <tr>\n",
       "      <th>Day</th>\n",
       "      <td>0.161232</td>\n",
       "      <td>-0.006122</td>\n",
       "      <td>-0.155093</td>\n",
       "      <td>0.160867</td>\n",
       "      <td>1.000000</td>\n",
       "      <td>0.330882</td>\n",
       "      <td>0.392926</td>\n",
       "      <td>0.259159</td>\n",
       "    </tr>\n",
       "    <tr>\n",
       "      <th>Month</th>\n",
       "      <td>0.034582</td>\n",
       "      <td>-0.001313</td>\n",
       "      <td>-0.033266</td>\n",
       "      <td>0.034504</td>\n",
       "      <td>0.330882</td>\n",
       "      <td>1.000000</td>\n",
       "      <td>-0.139098</td>\n",
       "      <td>0.045978</td>\n",
       "    </tr>\n",
       "    <tr>\n",
       "      <th>Year</th>\n",
       "      <td>0.165628</td>\n",
       "      <td>-0.006289</td>\n",
       "      <td>-0.159322</td>\n",
       "      <td>0.165253</td>\n",
       "      <td>0.392926</td>\n",
       "      <td>-0.139098</td>\n",
       "      <td>1.000000</td>\n",
       "      <td>0.299783</td>\n",
       "    </tr>\n",
       "    <tr>\n",
       "      <th>Price</th>\n",
       "      <td>0.292545</td>\n",
       "      <td>-0.172771</td>\n",
       "      <td>-0.411439</td>\n",
       "      <td>0.418381</td>\n",
       "      <td>0.259159</td>\n",
       "      <td>0.045978</td>\n",
       "      <td>0.299783</td>\n",
       "      <td>1.000000</td>\n",
       "    </tr>\n",
       "  </tbody>\n",
       "</table>\n",
       "</div>"
      ],
      "text/plain": [
       "                    produce_variety  Type_of_Commodity  Package_Type  \\\n",
       "produce_variety            1.000000          -0.033852     -0.221569   \n",
       "Type_of_Commodity         -0.033852           1.000000      0.117949   \n",
       "Package_Type              -0.221569           0.117949      1.000000   \n",
       "package_weight(Kg)         0.205566          -0.055400     -0.555234   \n",
       "Day                        0.161232          -0.006122     -0.155093   \n",
       "Month                      0.034582          -0.001313     -0.033266   \n",
       "Year                       0.165628          -0.006289     -0.159322   \n",
       "Price                      0.292545          -0.172771     -0.411439   \n",
       "\n",
       "                    package_weight(Kg)       Day     Month      Year     Price  \n",
       "produce_variety               0.205566  0.161232  0.034582  0.165628  0.292545  \n",
       "Type_of_Commodity            -0.055400 -0.006122 -0.001313 -0.006289 -0.172771  \n",
       "Package_Type                 -0.555234 -0.155093 -0.033266 -0.159322 -0.411439  \n",
       "package_weight(Kg)            1.000000  0.160867  0.034504  0.165253  0.418381  \n",
       "Day                           0.160867  1.000000  0.330882  0.392926  0.259159  \n",
       "Month                         0.034504  0.330882  1.000000 -0.139098  0.045978  \n",
       "Year                          0.165253  0.392926 -0.139098  1.000000  0.299783  \n",
       "Price                         0.418381  0.259159  0.045978  0.299783  1.000000  "
      ]
     },
     "execution_count": 33,
     "metadata": {},
     "output_type": "execute_result"
    }
   ],
   "source": [
    "#Finding the correlation between A produce variety with the comodity type with the month and year to price\n",
    "data[['produce_variety','Type_of_Commodity','Package_Type','package_weight(Kg)','Day','Month','Year','Price']].corr()"
   ]
  },
  {
   "cell_type": "code",
   "execution_count": 34,
   "id": "86079da2",
   "metadata": {
    "papermill": {
     "duration": 0.741448,
     "end_time": "2021-09-09T14:58:53.481851",
     "exception": false,
     "start_time": "2021-09-09T14:58:52.740403",
     "status": "completed"
    },
    "scrolled": true,
    "tags": []
   },
   "outputs": [
    {
     "data": {
      "text/plain": [
       "<AxesSubplot:>"
      ]
     },
     "execution_count": 34,
     "metadata": {},
     "output_type": "execute_result"
    },
    {
     "data": {
      "image/png": "[encoded data removed]",
      "text/plain": [
       "<Figure size 720x360 with 2 Axes>"
      ]
     },
     "metadata": {},
     "output_type": "display_data"
    }
   ],
   "source": [
    "plt.figure(figsize=(10, 5))\n",
    "#createing a color map\n",
    "cmap = sns.diverging_palette(200,10, as_cmap=True)\n",
    "#ploting a heatmap\n",
    "#The lighter a particular box the greater the corrilation as per the key index\n",
    "sns.heatmap(data[['produce_variety','Type_of_Commodity','Package_Type','package_weight(Kg)','Day','Month','Year','Price']].corr(),annot=True, annot_kws={\"size\": 10},linewidths=.7)"
   ]
  },
  {
   "cell_type": "markdown",
   "id": "d68c0bd7",
   "metadata": {
    "papermill": {
     "duration": 0.109134,
     "end_time": "2021-09-09T14:58:53.701563",
     "exception": false,
     "start_time": "2021-09-09T14:58:53.592429",
     "status": "completed"
    },
    "tags": []
   },
   "source": [
    "    Noteable Corrilation findings\n",
    "    \n",
    "    a)There is some corrilation between produce_variety and price.\n",
    "    \n",
    "    b)Another higher correlation is found between the package_weight and the price\n",
    "    \n",
    "    c)The day in which a commodity is sold has a corrilation to the month\n",
    "    \n",
    "    d)The year and the day have a correlation to the price of the commodity\n",
    "    (factoring may be the rainfall distribution of that year)\n",
    "    \n",
    "\n",
    "\n"
   ]
  },
  {
   "cell_type": "code",
   "execution_count": 35,
   "id": "12431b65",
   "metadata": {
    "papermill": {
     "duration": 0.144524,
     "end_time": "2021-09-09T14:58:53.959509",
     "exception": false,
     "start_time": "2021-09-09T14:58:53.814985",
     "status": "completed"
    },
    "tags": []
   },
   "outputs": [
    {
     "data": {
      "text/plain": [
       "array([[1., 1., 1., 1., 1., 1., 1., 1.],\n",
       "       [0., 1., 1., 1., 1., 1., 1., 1.],\n",
       "       [0., 0., 1., 1., 1., 1., 1., 1.],\n",
       "       [0., 0., 0., 1., 1., 1., 1., 1.],\n",
       "       [0., 0., 0., 0., 1., 1., 1., 1.],\n",
       "       [0., 0., 0., 0., 0., 1., 1., 1.],\n",
       "       [0., 0., 0., 0., 0., 0., 1., 1.],\n",
       "       [0., 0., 0., 0., 0., 0., 0., 1.]])"
      ]
     },
     "execution_count": 35,
     "metadata": {},
     "output_type": "execute_result"
    }
   ],
   "source": [
    "mask = np.zeros_like(data[['produce_variety','Type_of_Commodity','Package_Type','package_weight(Kg)','Day','Month','Year','Price']].corr())\n",
    "triangle_indicies = np.triu_indices_from(mask)\n",
    "mask[triangle_indicies] = True\n",
    "mask"
   ]
  },
  {
   "cell_type": "code",
   "execution_count": 36,
   "id": "9e451a86",
   "metadata": {
    "papermill": {
     "duration": 0.49767,
     "end_time": "2021-09-09T14:58:54.582970",
     "exception": false,
     "start_time": "2021-09-09T14:58:54.085300",
     "status": "completed"
    },
    "scrolled": true,
    "tags": []
   },
   "outputs": [
    {
     "data": {
      "image/png": "[encoded data removed]",
      "text/plain": [
       "<Figure size 720x360 with 2 Axes>"
      ]
     },
     "metadata": {},
     "output_type": "display_data"
    }
   ],
   "source": [
    "plt.figure(figsize=(10, 5))\n",
    "sns.heatmap(data[['produce_variety','Type_of_Commodity','Package_Type','package_weight(Kg)','Day','Month','Year','Price']].corr(), mask=mask, annot=True, annot_kws={\"size\": 14})\n",
    "plt.style.use('dark_background')\n",
    "plt.xticks(fontsize=16)\n",
    "plt.yticks(fontsize=16)\n",
    "plt.show()"
   ]
  },
  {
   "cell_type": "code",
   "execution_count": 37,
   "id": "c8bc141c",
   "metadata": {
    "papermill": {
     "duration": 0.132431,
     "end_time": "2021-09-09T14:58:54.830371",
     "exception": false,
     "start_time": "2021-09-09T14:58:54.697940",
     "status": "completed"
    },
    "scrolled": true,
    "tags": []
   },
   "outputs": [
    {
     "data": {
      "text/html": [
       "<div>\n",
       "<style scoped>\n",
       "    .dataframe tbody tr th:only-of-type {\n",
       "        vertical-align: middle;\n",
       "    }\n",
       "\n",
       "    .dataframe tbody tr th {\n",
       "        vertical-align: top;\n",
       "    }\n",
       "\n",
       "    .dataframe thead th {\n",
       "        text-align: right;\n",
       "    }\n",
       "</style>\n",
       "<table border=\"1\" class=\"dataframe\">\n",
       "  <thead>\n",
       "    <tr style=\"text-align: right;\">\n",
       "      <th></th>\n",
       "      <th>Produce_Variety</th>\n",
       "      <th>Commodity_Type</th>\n",
       "      <th>Unit</th>\n",
       "      <th>Volume_in_Kgs</th>\n",
       "      <th>Values_in_Ksh</th>\n",
       "      <th>Date</th>\n",
       "      <th>produce_variety</th>\n",
       "      <th>Type_of_Commodity</th>\n",
       "      <th>Package_Type</th>\n",
       "      <th>package_weight(Kg)</th>\n",
       "      <th>Day</th>\n",
       "      <th>Month</th>\n",
       "      <th>Year</th>\n",
       "      <th>Price</th>\n",
       "    </tr>\n",
       "  </thead>\n",
       "  <tbody>\n",
       "    <tr>\n",
       "      <th>0</th>\n",
       "      <td>Horticulture</td>\n",
       "      <td>Cabbages</td>\n",
       "      <td>Ext Bag</td>\n",
       "      <td>126</td>\n",
       "      <td>KES2205.00</td>\n",
       "      <td>01/01/2012</td>\n",
       "      <td>1</td>\n",
       "      <td>5</td>\n",
       "      <td>2</td>\n",
       "      <td>126</td>\n",
       "      <td>1</td>\n",
       "      <td>1</td>\n",
       "      <td>2012</td>\n",
       "      <td>2205.0</td>\n",
       "    </tr>\n",
       "    <tr>\n",
       "      <th>1</th>\n",
       "      <td>Horticulture</td>\n",
       "      <td>Cooking Bananas</td>\n",
       "      <td>Med Bunch</td>\n",
       "      <td>22</td>\n",
       "      <td>KES511.00</td>\n",
       "      <td>01/01/2012</td>\n",
       "      <td>1</td>\n",
       "      <td>11</td>\n",
       "      <td>4</td>\n",
       "      <td>22</td>\n",
       "      <td>1</td>\n",
       "      <td>1</td>\n",
       "      <td>2012</td>\n",
       "      <td>511.0</td>\n",
       "    </tr>\n",
       "    <tr>\n",
       "      <th>2</th>\n",
       "      <td>Horticulture</td>\n",
       "      <td>Ripe Bananas</td>\n",
       "      <td>Med Bunch</td>\n",
       "      <td>14</td>\n",
       "      <td>KES616.00</td>\n",
       "      <td>01/01/2012</td>\n",
       "      <td>1</td>\n",
       "      <td>34</td>\n",
       "      <td>4</td>\n",
       "      <td>14</td>\n",
       "      <td>1</td>\n",
       "      <td>1</td>\n",
       "      <td>2012</td>\n",
       "      <td>616.0</td>\n",
       "    </tr>\n",
       "    <tr>\n",
       "      <th>3</th>\n",
       "      <td>Horticulture</td>\n",
       "      <td>Carrots</td>\n",
       "      <td>Ext Bag</td>\n",
       "      <td>138</td>\n",
       "      <td>KES2833.00</td>\n",
       "      <td>01/01/2012</td>\n",
       "      <td>1</td>\n",
       "      <td>7</td>\n",
       "      <td>2</td>\n",
       "      <td>138</td>\n",
       "      <td>1</td>\n",
       "      <td>1</td>\n",
       "      <td>2012</td>\n",
       "      <td>2833.0</td>\n",
       "    </tr>\n",
       "    <tr>\n",
       "      <th>4</th>\n",
       "      <td>Horticulture</td>\n",
       "      <td>Tomatoes</td>\n",
       "      <td>Lg Box</td>\n",
       "      <td>64</td>\n",
       "      <td>KES3411.00</td>\n",
       "      <td>01/01/2012</td>\n",
       "      <td>1</td>\n",
       "      <td>38</td>\n",
       "      <td>3</td>\n",
       "      <td>64</td>\n",
       "      <td>1</td>\n",
       "      <td>1</td>\n",
       "      <td>2012</td>\n",
       "      <td>3411.0</td>\n",
       "    </tr>\n",
       "  </tbody>\n",
       "</table>\n",
       "</div>"
      ],
      "text/plain": [
       "  Produce_Variety   Commodity_Type       Unit  Volume_in_Kgs Values_in_Ksh  \\\n",
       "0    Horticulture         Cabbages    Ext Bag            126    KES2205.00   \n",
       "1    Horticulture  Cooking Bananas  Med Bunch             22     KES511.00   \n",
       "2    Horticulture     Ripe Bananas  Med Bunch             14     KES616.00   \n",
       "3    Horticulture          Carrots    Ext Bag            138    KES2833.00   \n",
       "4    Horticulture         Tomatoes     Lg Box             64    KES3411.00   \n",
       "\n",
       "         Date  produce_variety  Type_of_Commodity  Package_Type  \\\n",
       "0  01/01/2012                1                  5             2   \n",
       "1  01/01/2012                1                 11             4   \n",
       "2  01/01/2012                1                 34             4   \n",
       "3  01/01/2012                1                  7             2   \n",
       "4  01/01/2012                1                 38             3   \n",
       "\n",
       "   package_weight(Kg)  Day  Month  Year   Price  \n",
       "0                 126    1      1  2012  2205.0  \n",
       "1                  22    1      1  2012   511.0  \n",
       "2                  14    1      1  2012   616.0  \n",
       "3                 138    1      1  2012  2833.0  \n",
       "4                  64    1      1  2012  3411.0  "
      ]
     },
     "execution_count": 37,
     "metadata": {},
     "output_type": "execute_result"
    }
   ],
   "source": [
    "data.head()"
   ]
  },
  {
   "cell_type": "code",
   "execution_count": null,
   "id": "7120d33a",
   "metadata": {
    "papermill": {
     "duration": 0.112204,
     "end_time": "2021-09-09T14:58:55.056264",
     "exception": false,
     "start_time": "2021-09-09T14:58:54.944060",
     "status": "completed"
    },
    "tags": []
   },
   "outputs": [],
   "source": []
  },
  {
   "cell_type": "code",
   "execution_count": 38,
   "id": "d0c8421a",
   "metadata": {
    "papermill": {
     "duration": 0.121139,
     "end_time": "2021-09-09T14:58:55.292093",
     "exception": false,
     "start_time": "2021-09-09T14:58:55.170954",
     "status": "completed"
    },
    "tags": []
   },
   "outputs": [],
   "source": [
    "#Plotting bar graphs from the dataset categories\n",
    "data_cat = data[['Produce_Variety', 'Commodity_Type', 'Unit','Volume_in_Kgs', 'Day', 'Month', 'Year']]"
   ]
  },
  {
   "cell_type": "code",
   "execution_count": 39,
   "id": "94354eeb",
   "metadata": {
    "papermill": {
     "duration": 1.695967,
     "end_time": "2021-09-09T14:58:57.100440",
     "exception": false,
     "start_time": "2021-09-09T14:58:55.404473",
     "status": "completed"
    },
    "scrolled": true,
    "tags": []
   },
   "outputs": [
    {
     "name": "stdout",
     "output_type": "stream",
     "text": [
      "graph for Produce_Variety: total = 4\n"
     ]
    },
    {
     "data": {
      "image/png": "[encoded data removed]",
      "text/plain": [
       "<Figure size 432x288 with 1 Axes>"
      ]
     },
     "metadata": {},
     "output_type": "display_data"
    },
    {
     "name": "stdout",
     "output_type": "stream",
     "text": [
      "graph for Commodity_Type: total = 41\n"
     ]
    },
    {
     "data": {
      "image/png": "[encoded data removed]",
      "text/plain": [
       "<Figure size 432x288 with 1 Axes>"
      ]
     },
     "metadata": {},
     "output_type": "display_data"
    },
    {
     "name": "stdout",
     "output_type": "stream",
     "text": [
      "graph for Unit: total = 8\n"
     ]
    },
    {
     "data": {
      "image/png": "[encoded data removed]",
      "text/plain": [
       "<Figure size 432x288 with 1 Axes>"
      ]
     },
     "metadata": {},
     "output_type": "display_data"
    },
    {
     "name": "stdout",
     "output_type": "stream",
     "text": [
      "graph for Volume_in_Kgs: total = 22\n"
     ]
    },
    {
     "data": {
      "image/png": "[encoded data removed]",
      "text/plain": [
       "<Figure size 432x288 with 1 Axes>"
      ]
     },
     "metadata": {},
     "output_type": "display_data"
    },
    {
     "name": "stdout",
     "output_type": "stream",
     "text": [
      "graph for Day: total = 2\n"
     ]
    },
    {
     "data": {
      "image/png": "[encoded data removed]",
      "text/plain": [
       "<Figure size 432x288 with 1 Axes>"
      ]
     },
     "metadata": {},
     "output_type": "display_data"
    },
    {
     "name": "stdout",
     "output_type": "stream",
     "text": [
      "graph for Month: total = 12\n"
     ]
    },
    {
     "data": {
      "image/png": "[encoded data removed]",
      "text/plain": [
       "<Figure size 432x288 with 1 Axes>"
      ]
     },
     "metadata": {},
     "output_type": "display_data"
    },
    {
     "name": "stdout",
     "output_type": "stream",
     "text": [
      "graph for Year: total = 3\n"
     ]
    },
    {
     "data": {
      "image/png": "[encoded data removed]",
      "text/plain": [
       "<Figure size 432x288 with 1 Axes>"
      ]
     },
     "metadata": {},
     "output_type": "display_data"
    }
   ],
   "source": [
    "for i in data_cat.columns:\n",
    "    cat_num = data_cat[i].value_counts()\n",
    "    print(\"graph for %s: total = %d\" % (i, len(cat_num)))\n",
    "    chart = sns.barplot(x=cat_num.index, y=cat_num)\n",
    "    chart.set_xticklabels(chart.get_xticklabels(), rotation=90)\n",
    "    plt.show()"
   ]
  },
  {
   "cell_type": "code",
   "execution_count": null,
   "id": "69aa8eb5",
   "metadata": {
    "papermill": {
     "duration": 0.124006,
     "end_time": "2021-09-09T14:58:57.354974",
     "exception": false,
     "start_time": "2021-09-09T14:58:57.230968",
     "status": "completed"
    },
    "tags": []
   },
   "outputs": [],
   "source": []
  },
  {
   "cell_type": "code",
   "execution_count": null,
   "id": "caab703b",
   "metadata": {
    "papermill": {
     "duration": 0.119304,
     "end_time": "2021-09-09T14:58:57.596059",
     "exception": false,
     "start_time": "2021-09-09T14:58:57.476755",
     "status": "completed"
    },
    "tags": []
   },
   "outputs": [],
   "source": []
  },
  {
   "cell_type": "code",
   "execution_count": 40,
   "id": "aade3cad",
   "metadata": {
    "papermill": {
     "duration": 0.129758,
     "end_time": "2021-09-09T14:58:57.846288",
     "exception": false,
     "start_time": "2021-09-09T14:58:57.716530",
     "status": "completed"
    },
    "tags": []
   },
   "outputs": [],
   "source": [
    "#Creating a Word Map"
   ]
  },
  {
   "cell_type": "code",
   "execution_count": 41,
   "id": "918f7cde",
   "metadata": {
    "papermill": {
     "duration": 0.750547,
     "end_time": "2021-09-09T14:58:58.718607",
     "exception": false,
     "start_time": "2021-09-09T14:58:57.968060",
     "status": "completed"
    },
    "tags": []
   },
   "outputs": [],
   "source": [
    "from wordcloud import WordCloud, ImageColorGenerator\n",
    "from nltk.corpus import stopwords\n",
    "from nltk.tokenize import word_tokenize"
   ]
  },
  {
   "cell_type": "code",
   "execution_count": 42,
   "id": "d1675062",
   "metadata": {
    "papermill": {
     "duration": 37.163154,
     "end_time": "2021-09-09T14:59:36.005385",
     "exception": false,
     "start_time": "2021-09-09T14:58:58.842231",
     "status": "completed"
    },
    "tags": []
   },
   "outputs": [
    {
     "data": {
      "image/png": "[encoded data removed]",
      "text/plain": [
       "<Figure size 720x720 with 1 Axes>"
      ]
     },
     "metadata": {},
     "output_type": "display_data"
    },
    {
     "data": {
      "text/plain": [
       "<wordcloud.wordcloud.WordCloud at 0x23c810199d0>"
      ]
     },
     "execution_count": 42,
     "metadata": {},
     "output_type": "execute_result"
    }
   ],
   "source": [
    "text=\" \".join(data['Commodity_Type'])\n",
    "word_cloud = WordCloud(collocations = False, background_color = 'white',scale=20,max_words = 1000,width =1000, height = 500).generate(text)\n",
    "\n",
    "plt.figure(figsize=[10,10])\n",
    "plt.imshow(word_cloud,interpolation=\"bilinear\")\n",
    "plt.axis('off')\n",
    "plt.show()\n",
    "#saving the word cloud and storing it as png\n",
    "\n",
    "# store to file\n",
    "word_cloud.to_file(\"commodity_types.png\")\n"
   ]
  },
  {
   "cell_type": "code",
   "execution_count": 43,
   "id": "2fd2b36b",
   "metadata": {
    "papermill": {
     "duration": 0.146388,
     "end_time": "2021-09-09T14:59:36.278181",
     "exception": false,
     "start_time": "2021-09-09T14:59:36.131793",
     "status": "completed"
    },
    "tags": []
   },
   "outputs": [],
   "source": [
    "#Save our dataset having cleaned it and analysed as EDA\n",
    "data.to_csv('Food_Crops(EDA_cleaned).csv')"
   ]
  },
  {
   "cell_type": "markdown",
   "id": "c616c4a3",
   "metadata": {
    "papermill": {
     "duration": 0.124967,
     "end_time": "2021-09-09T14:59:36.530877",
     "exception": false,
     "start_time": "2021-09-09T14:59:36.405910",
     "status": "completed"
    },
    "tags": []
   },
   "source": [
    "### Building Our Model\n",
    "    The steps to follow are \n",
    "    1)Define the ML model to use\n",
    "    2)Fit the model\n",
    "    3)Use the model to Predict values\n",
    "    4)Evaluate the model to see it's performance"
   ]
  },
  {
   "cell_type": "markdown",
   "id": "ecd66438",
   "metadata": {
    "papermill": {
     "duration": 0.123819,
     "end_time": "2021-09-09T14:59:36.779869",
     "exception": false,
     "start_time": "2021-09-09T14:59:36.656050",
     "status": "completed"
    },
    "tags": []
   },
   "source": [
    "#### Linear Regression Model\n",
    "Linear regression tries to establish a linear relationship between an independent variable x and a dependent variable y.\n",
    "It assumes a linear relationship between input variables (x) and output variables (y).\n",
    "\n",
    "Linear regression tends to establish a relationship between them by formulating an equation that describes the outcome (y) as a linear combination of the input variables (multiplied with the corresponding variables learned by the model from training).\n",
    "\n",
    "\"If the predictor variable is represented by x, and the outcome variable is represented by y in our case crop prices, then the\n",
    "relationship can be expressed by the equation \n",
    "                        \n",
    "                        y=β0 + β1x\n",
    "\n",
    "where β1 represents the slope of the x, and β0 is the intercept or error term for the equation.\n",
    "What linear regression does is estimate the values of β0 and β1 from a set of observed data\n",
    "points, where the values of x, and associated values of y, are provided. So, when a new or\n",
    "previously unobserved data point comes where the value of y is unknown, it can fit the\n",
    "values of x, β0, and β1 into the above equation to predict the value of y.\"- Shah C (Hands on introduction to Data Science)"
   ]
  },
  {
   "cell_type": "code",
   "execution_count": 44,
   "id": "051fb4e5",
   "metadata": {
    "papermill": {
     "duration": 0.133358,
     "end_time": "2021-09-09T14:59:37.039945",
     "exception": false,
     "start_time": "2021-09-09T14:59:36.906587",
     "status": "completed"
    },
    "tags": []
   },
   "outputs": [],
   "source": [
    "from sklearn.linear_model import LinearRegression\n",
    "from sklearn import metrics\n",
    "from sklearn.model_selection import train_test_split"
   ]
  },
  {
   "cell_type": "code",
   "execution_count": 45,
   "id": "3fee29d4",
   "metadata": {
    "papermill": {
     "duration": 0.149702,
     "end_time": "2021-09-09T14:59:37.319616",
     "exception": false,
     "start_time": "2021-09-09T14:59:37.169914",
     "status": "completed"
    },
    "tags": []
   },
   "outputs": [],
   "source": [
    "#load our cleaned data \n",
    "data=pd.read_csv('Prices for Food Crops_Commodities_2012_to_2015 (EDA_cleaned).csv')\n"
   ]
  },
  {
   "cell_type": "code",
   "execution_count": 46,
   "id": "0db269c9",
   "metadata": {
    "papermill": {
     "duration": 0.131504,
     "end_time": "2021-09-09T14:59:37.576750",
     "exception": false,
     "start_time": "2021-09-09T14:59:37.445246",
     "status": "completed"
    },
    "tags": []
   },
   "outputs": [],
   "source": [
    "#choose relevant  columns\n",
    "data_model=data[['produce_variety','Type_of_Commodity','Package_Type','package_weight(Kg)','Day','Month','Year','Price']]\n"
   ]
  },
  {
   "cell_type": "code",
   "execution_count": 47,
   "id": "eb7d9e79",
   "metadata": {
    "papermill": {
     "duration": 0.134298,
     "end_time": "2021-09-09T14:59:37.837038",
     "exception": false,
     "start_time": "2021-09-09T14:59:37.702740",
     "status": "completed"
    },
    "tags": []
   },
   "outputs": [],
   "source": [
    "#get dummy data\n",
    "data_dum=pd.get_dummies(data_model)"
   ]
  },
  {
   "cell_type": "markdown",
   "id": "1b9408b1",
   "metadata": {
    "papermill": {
     "duration": 0.124383,
     "end_time": "2021-09-09T14:59:38.084319",
     "exception": false,
     "start_time": "2021-09-09T14:59:37.959936",
     "status": "completed"
    },
    "tags": []
   },
   "source": [
    "### Training Test Split"
   ]
  },
  {
   "cell_type": "code",
   "execution_count": 48,
   "id": "19ca90d5",
   "metadata": {
    "papermill": {
     "duration": 0.135262,
     "end_time": "2021-09-09T14:59:38.347888",
     "exception": false,
     "start_time": "2021-09-09T14:59:38.212626",
     "status": "completed"
    },
    "tags": []
   },
   "outputs": [],
   "source": [
    "#categorising our data into X feaures and Y target values\n",
    "\n",
    "X=data_dum.drop('Price',axis=1)\n",
    "y=data_dum['Price']"
   ]
  },
  {
   "cell_type": "code",
   "execution_count": 49,
   "id": "3059f5ab",
   "metadata": {
    "papermill": {
     "duration": 0.137225,
     "end_time": "2021-09-09T14:59:38.611993",
     "exception": false,
     "start_time": "2021-09-09T14:59:38.474768",
     "status": "completed"
    },
    "tags": []
   },
   "outputs": [],
   "source": [
    "#spliting our data into traning and testing\n",
    "X_train,X_test,y_train,y_test=train_test_split(X,y,test_size=0.3)"
   ]
  },
  {
   "cell_type": "markdown",
   "id": "56f7a652",
   "metadata": {
    "papermill": {
     "duration": 0.126031,
     "end_time": "2021-09-09T14:59:38.864773",
     "exception": false,
     "start_time": "2021-09-09T14:59:38.738742",
     "status": "completed"
    },
    "tags": []
   },
   "source": [
    "#### Model Definition"
   ]
  },
  {
   "cell_type": "markdown",
   "id": "7f3ca363",
   "metadata": {
    "papermill": {
     "duration": 0.127306,
     "end_time": "2021-09-09T14:59:39.120979",
     "exception": false,
     "start_time": "2021-09-09T14:59:38.993673",
     "status": "completed"
    },
    "tags": []
   },
   "source": [
    "       #Notes Source https://machinelearningmastery.com/regression-metrics-for-machine-learning/\n",
    "     Regression predictive modeling are those problems that involve predicting a numeric value.\n",
    "     Metrics for regression involve calculating an error score to summarize the predictive skill of a model.\n",
    "    \n",
    "    Accuracy (e.g. classification accuracy) is a measure for classification, not regression.\n",
    "    We cannot calculate accuracy for a regression model.\n",
    "\n",
    "    The skill or performance of a regression model must be reported as an error in those predictions.\n",
    "    If you are predicting a numeric value like a height or a dollar amount, you don’t want to know if the model predicted           the value exactly (this might be intractably difficult in practice); instead, we want to know how close the predictions         were to the expected values."
   ]
  },
  {
   "cell_type": "code",
   "execution_count": 50,
   "id": "8ec7bac1",
   "metadata": {
    "papermill": {
     "duration": 0.134267,
     "end_time": "2021-09-09T14:59:39.383825",
     "exception": false,
     "start_time": "2021-09-09T14:59:39.249558",
     "status": "completed"
    },
    "tags": []
   },
   "outputs": [],
   "source": [
    "#Linear Regression\n",
    "model=LinearRegression()\n"
   ]
  },
  {
   "cell_type": "markdown",
   "id": "0fa8b8a6",
   "metadata": {
    "papermill": {
     "duration": 0.126282,
     "end_time": "2021-09-09T14:59:39.636053",
     "exception": false,
     "start_time": "2021-09-09T14:59:39.509771",
     "status": "completed"
    },
    "tags": []
   },
   "source": [
    "#### Model Training"
   ]
  },
  {
   "cell_type": "code",
   "execution_count": 51,
   "id": "ce5c1e38",
   "metadata": {
    "papermill": {
     "duration": 0.173942,
     "end_time": "2021-09-09T14:59:39.936012",
     "exception": false,
     "start_time": "2021-09-09T14:59:39.762070",
     "status": "completed"
    },
    "tags": []
   },
   "outputs": [
    {
     "data": {
      "text/plain": [
       "LinearRegression()"
      ]
     },
     "execution_count": 51,
     "metadata": {},
     "output_type": "execute_result"
    }
   ],
   "source": [
    "model.fit(X_train, y_train)"
   ]
  },
  {
   "cell_type": "code",
   "execution_count": 52,
   "id": "9569c749",
   "metadata": {
    "papermill": {
     "duration": 0.138193,
     "end_time": "2021-09-09T14:59:40.202377",
     "exception": false,
     "start_time": "2021-09-09T14:59:40.064184",
     "status": "completed"
    },
    "tags": []
   },
   "outputs": [
    {
     "name": "stdout",
     "output_type": "stream",
     "text": [
      "-682350.3010270083\n"
     ]
    }
   ],
   "source": [
    "print(model.intercept_)"
   ]
  },
  {
   "cell_type": "markdown",
   "id": "8ca19391",
   "metadata": {
    "papermill": {
     "duration": 0.124824,
     "end_time": "2021-09-09T14:59:40.454837",
     "exception": false,
     "start_time": "2021-09-09T14:59:40.330013",
     "status": "completed"
    },
    "tags": []
   },
   "source": [
    "### Preditiction"
   ]
  },
  {
   "cell_type": "code",
   "execution_count": 53,
   "id": "44908c2a",
   "metadata": {
    "papermill": {
     "duration": 0.134567,
     "end_time": "2021-09-09T14:59:40.714417",
     "exception": false,
     "start_time": "2021-09-09T14:59:40.579850",
     "status": "completed"
    },
    "tags": []
   },
   "outputs": [],
   "source": [
    "test_pred=model.predict(X_test)\n",
    "test_train=model.predict(X_train)\n"
   ]
  },
  {
   "cell_type": "code",
   "execution_count": 54,
   "id": "b9af20fe",
   "metadata": {
    "papermill": {
     "duration": 0.28993,
     "end_time": "2021-09-09T14:59:41.129628",
     "exception": false,
     "start_time": "2021-09-09T14:59:40.839698",
     "status": "completed"
    },
    "scrolled": true,
    "tags": []
   },
   "outputs": [
    {
     "data": {
      "text/plain": [
       "(array([  2.,   7.,   2.,   6.,  20.,  59.,  92., 118.,  33.,   5.]),\n",
       " array([-8782.52857517, -7453.77929497, -6125.03001477, -4796.28073456,\n",
       "        -3467.53145436, -2138.78217415,  -810.03289395,   518.71638625,\n",
       "         1847.46566646,  3176.21494666,  4504.96422687]),\n",
       " <BarContainer object of 10 artists>)"
      ]
     },
     "execution_count": 54,
     "metadata": {},
     "output_type": "execute_result"
    },
    {
     "data": {
      "image/png": "[encoded data removed]",
      "text/plain": [
       "<Figure size 432x288 with 1 Axes>"
      ]
     },
     "metadata": {},
     "output_type": "display_data"
    }
   ],
   "source": [
    "#This will show how far off the values are. This is showing the predicted value minus the actual test value for all the data points.\n",
    "\n",
    "residuals=test_pred-y_test\n",
    "residuals\n",
    "#Then, we should plot with a histogram to see how “off” each value is. This can be done with the following command.\n",
    "#This graph above shows the distribution of error. Most of the time, it appears that the values are close-ish to 0.\n",
    "plt.hist(residuals)"
   ]
  },
  {
   "cell_type": "markdown",
   "id": "8691fd4d",
   "metadata": {
    "papermill": {
     "duration": 0.128048,
     "end_time": "2021-09-09T14:59:41.387746",
     "exception": false,
     "start_time": "2021-09-09T14:59:41.259698",
     "status": "completed"
    },
    "tags": []
   },
   "source": [
    "    There are three error metrics that are commonly used for evaluating and reporting the performance of a regression model;       they are:\n",
    "    1)Mean Absolute Error (MAE)\n",
    "    2)Mean Squared Error (MSE)\n",
    "    3)Root Mean Squared Error (RMSE)        "
   ]
  },
  {
   "cell_type": "markdown",
   "id": "06574c63",
   "metadata": {
    "papermill": {
     "duration": 0.12535,
     "end_time": "2021-09-09T14:59:41.639840",
     "exception": false,
     "start_time": "2021-09-09T14:59:41.514490",
     "status": "completed"
    },
    "tags": []
   },
   "source": [
    "### Model Evaluation"
   ]
  },
  {
   "cell_type": "code",
   "execution_count": 55,
   "id": "63b3fadd",
   "metadata": {
    "papermill": {
     "duration": 0.138053,
     "end_time": "2021-09-09T14:59:41.902812",
     "exception": false,
     "start_time": "2021-09-09T14:59:41.764759",
     "status": "completed"
    },
    "tags": []
   },
   "outputs": [
    {
     "name": "stdout",
     "output_type": "stream",
     "text": [
      "Trainig Data\n",
      "The mean absolute error using Linear Regression is : 1411.3523033926485\n",
      "The mean squared error using Linear Regression is  : 3787744.1485906183\n",
      "The root mean squared error using Linear Regression is : 1946.2127706370181\n"
     ]
    }
   ],
   "source": [
    "#calculating the mean absolute error on training data\n",
    "mae= metrics.mean_absolute_error(y_train,test_train)\n",
    "#calculating the mean squared error on training data\n",
    "mse= metrics.mean_squared_error(y_train, test_train)\n",
    "#calculating the root mean squared error on training data\n",
    "rmse = np.sqrt(metrics.mean_squared_error(y_train,test_train))\n",
    "print(\"Trainig Data\")\n",
    "print(\"The mean absolute error using Linear Regression is :\", mae)\n",
    "print(\"The mean squared error using Linear Regression is  :\", mse)\n",
    "print(\"The root mean squared error using Linear Regression is :\", rmse)"
   ]
  },
  {
   "cell_type": "code",
   "execution_count": 56,
   "id": "370d8618",
   "metadata": {
    "papermill": {
     "duration": 0.143731,
     "end_time": "2021-09-09T14:59:42.171715",
     "exception": false,
     "start_time": "2021-09-09T14:59:42.027984",
     "status": "completed"
    },
    "tags": []
   },
   "outputs": [
    {
     "name": "stdout",
     "output_type": "stream",
     "text": [
      "Testing Data\n",
      "The mean absolute error using Linear Regression is : 1470.0507381358198\n",
      "The mean squared error using Linear Regression is : 3999426.048854293\n",
      "The root mean squared error using Linear Regression is : 1999.8565070660177\n"
     ]
    }
   ],
   "source": [
    "#calculating the mean absolute error on testing data\n",
    "mae= metrics.mean_absolute_error(y_test,test_pred)\n",
    "#calculating the mean squared error on testing data\n",
    "mse= metrics.mean_squared_error(y_test, test_pred)\n",
    "#calculating the root  mean squared error on testing data\n",
    "rmse = np.sqrt(metrics.mean_squared_error(y_test,test_pred))\n",
    "\n",
    "print(\"Testing Data\")\n",
    "print(\"The mean absolute error using Linear Regression is :\", mae)\n",
    "print(\"The mean squared error using Linear Regression is :\", mse)\n",
    "print(\"The root mean squared error using Linear Regression is :\", rmse)"
   ]
  },
  {
   "cell_type": "code",
   "execution_count": 57,
   "id": "cd86656e",
   "metadata": {
    "papermill": {
     "duration": 0.136443,
     "end_time": "2021-09-09T14:59:42.436061",
     "exception": false,
     "start_time": "2021-09-09T14:59:42.299618",
     "status": "completed"
    },
    "tags": []
   },
   "outputs": [
    {
     "data": {
      "text/plain": [
       "0.3340038768030956"
      ]
     },
     "execution_count": 57,
     "metadata": {},
     "output_type": "execute_result"
    }
   ],
   "source": [
    "#Co-efficient of determination (R2 Score) on training data\n",
    "metrics.r2_score(y_train,test_train)"
   ]
  },
  {
   "cell_type": "code",
   "execution_count": 58,
   "id": "94166480",
   "metadata": {
    "papermill": {
     "duration": 0.136157,
     "end_time": "2021-09-09T14:59:42.698261",
     "exception": false,
     "start_time": "2021-09-09T14:59:42.562104",
     "status": "completed"
    },
    "tags": []
   },
   "outputs": [
    {
     "data": {
      "text/plain": [
       "0.2753566258599899"
      ]
     },
     "execution_count": 58,
     "metadata": {},
     "output_type": "execute_result"
    }
   ],
   "source": [
    "from sklearn.metrics import r2_score\n",
    "#Co-efficient of determination (R2 Score) on testing data\n",
    "metrics.r2_score(y_test,test_pred)"
   ]
  },
  {
   "cell_type": "markdown",
   "id": "7549f4e6",
   "metadata": {
    "papermill": {
     "duration": 0.128658,
     "end_time": "2021-09-09T14:59:42.951928",
     "exception": false,
     "start_time": "2021-09-09T14:59:42.823270",
     "status": "completed"
    },
    "tags": []
   },
   "source": [
    "    We find that our Linear regression model has an accuracy of around 25%\n",
    "\n",
    "    Linear regression can be prone to underfitting the data.\n",
    "    Hence if you build a model using linear regression and you find that\n",
    "    both the test accuracy and the training accuracy are low then this would likely be due to underfitting.\n",
    "    \n",
    "    To address this som eof the other models we can use include:\n",
    "    A)Decision tree regression\n",
    "    B)Random forest regression"
   ]
  },
  {
   "cell_type": "code",
   "execution_count": 59,
   "id": "e9e4b93e",
   "metadata": {
    "papermill": {
     "duration": 0.34415,
     "end_time": "2021-09-09T14:59:43.422456",
     "exception": false,
     "start_time": "2021-09-09T14:59:43.078306",
     "status": "completed"
    },
    "scrolled": true,
    "tags": []
   },
   "outputs": [
    {
     "name": "stderr",
     "output_type": "stream",
     "text": [
      "C:\\Users\\Ramanjaneyareddy\\AppData\\Local\\Programs\\Python\\Python39\\lib\\site-packages\\seaborn\\distributions.py:2619: FutureWarning: `distplot` is a deprecated function and will be removed in a future version. Please adapt your code to use either `displot` (a figure-level function with similar flexibility) or `histplot` (an axes-level function for histograms).\n",
      "  warnings.warn(msg, FutureWarning)\n"
     ]
    },
    {
     "data": {
      "image/png": "[encoded data removed]",
      "text/plain": [
       "<Figure size 432x288 with 1 Axes>"
      ]
     },
     "metadata": {},
     "output_type": "display_data"
    }
   ],
   "source": [
    "# Checking Normality of errors\n",
    "sns.distplot(y_train-test_train)\n",
    "plt.title(\"Histogram of Residuals\")\n",
    "plt.xlabel(\"Residuals\")\n",
    "plt.ylabel(\"Frequency\")\n",
    "plt.show()\n"
   ]
  },
  {
   "cell_type": "code",
   "execution_count": 60,
   "id": "dd284831",
   "metadata": {
    "papermill": {
     "duration": 0.296931,
     "end_time": "2021-09-09T14:59:43.845218",
     "exception": false,
     "start_time": "2021-09-09T14:59:43.548287",
     "status": "completed"
    },
    "tags": []
   },
   "outputs": [
    {
     "data": {
      "image/png": "[encoded data removed]",
      "text/plain": [
       "<Figure size 432x288 with 1 Axes>"
      ]
     },
     "metadata": {},
     "output_type": "display_data"
    }
   ],
   "source": [
    "# Visualizing the differences between actual prices and predicted values\n",
    "plt.scatter(y_train, test_train,color='red')\n",
    "plt.xlabel(\"Prices\")\n",
    "plt.ylabel(\"Predicted prices\")\n",
    "plt.title(\"Prices vs Predicted prices\")\n",
    "plt.show()\n"
   ]
  },
  {
   "cell_type": "code",
   "execution_count": 61,
   "id": "056cd104",
   "metadata": {
    "papermill": {
     "duration": 0.144494,
     "end_time": "2021-09-09T14:59:44.119155",
     "exception": false,
     "start_time": "2021-09-09T14:59:43.974661",
     "status": "completed"
    },
    "tags": []
   },
   "outputs": [
    {
     "name": "stdout",
     "output_type": "stream",
     "text": [
      "Intercept -682350.3010270083\n"
     ]
    },
    {
     "data": {
      "text/html": [
       "<div>\n",
       "<style scoped>\n",
       "    .dataframe tbody tr th:only-of-type {\n",
       "        vertical-align: middle;\n",
       "    }\n",
       "\n",
       "    .dataframe tbody tr th {\n",
       "        vertical-align: top;\n",
       "    }\n",
       "\n",
       "    .dataframe thead th {\n",
       "        text-align: right;\n",
       "    }\n",
       "</style>\n",
       "<table border=\"1\" class=\"dataframe\">\n",
       "  <thead>\n",
       "    <tr style=\"text-align: right;\">\n",
       "      <th></th>\n",
       "      <th>Coef</th>\n",
       "    </tr>\n",
       "  </thead>\n",
       "  <tbody>\n",
       "    <tr>\n",
       "      <th>produce_variety</th>\n",
       "      <td>591.207056</td>\n",
       "    </tr>\n",
       "    <tr>\n",
       "      <th>Type_of_Commodity</th>\n",
       "      <td>-22.252499</td>\n",
       "    </tr>\n",
       "    <tr>\n",
       "      <th>Package_Type</th>\n",
       "      <td>-211.627038</td>\n",
       "    </tr>\n",
       "    <tr>\n",
       "      <th>package_weight(Kg)</th>\n",
       "      <td>15.169876</td>\n",
       "    </tr>\n",
       "    <tr>\n",
       "      <th>Day</th>\n",
       "      <td>35.167697</td>\n",
       "    </tr>\n",
       "    <tr>\n",
       "      <th>Month</th>\n",
       "      <td>15.049833</td>\n",
       "    </tr>\n",
       "    <tr>\n",
       "      <th>Year</th>\n",
       "      <td>339.818464</td>\n",
       "    </tr>\n",
       "  </tbody>\n",
       "</table>\n",
       "</div>"
      ],
      "text/plain": [
       "                          Coef\n",
       "produce_variety     591.207056\n",
       "Type_of_Commodity   -22.252499\n",
       "Package_Type       -211.627038\n",
       "package_weight(Kg)   15.169876\n",
       "Day                  35.167697\n",
       "Month                15.049833\n",
       "Year                339.818464"
      ]
     },
     "execution_count": 61,
     "metadata": {},
     "output_type": "execute_result"
    }
   ],
   "source": [
    "print('Intercept', model.intercept_)\n",
    "pd.DataFrame(data = model.coef_, index=X_train.columns, columns = ['Coef'])"
   ]
  },
  {
   "cell_type": "markdown",
   "id": "505227ff",
   "metadata": {
    "papermill": {
     "duration": 0.128025,
     "end_time": "2021-09-09T14:59:44.378591",
     "exception": false,
     "start_time": "2021-09-09T14:59:44.250566",
     "status": "completed"
    },
    "tags": []
   },
   "source": []
  },
  {
   "cell_type": "markdown",
   "id": "5cc816df",
   "metadata": {
    "papermill": {
     "duration": 0.131652,
     "end_time": "2021-09-09T14:59:44.639193",
     "exception": false,
     "start_time": "2021-09-09T14:59:44.507541",
     "status": "completed"
    },
    "tags": []
   },
   "source": [
    "### Regression using Log Prices"
   ]
  },
  {
   "cell_type": "code",
   "execution_count": 62,
   "id": "2d33a2b7",
   "metadata": {
    "papermill": {
     "duration": 0.136828,
     "end_time": "2021-09-09T14:59:44.903818",
     "exception": false,
     "start_time": "2021-09-09T14:59:44.766990",
     "status": "completed"
    },
    "tags": []
   },
   "outputs": [],
   "source": [
    "X=data_dum.drop('Price',axis=1)\n",
    "y=np.log(data_dum['Price'])\n",
    "X_train,X_test,y_train,y_test=train_test_split(X,y,test_size=0.3)"
   ]
  },
  {
   "cell_type": "code",
   "execution_count": 63,
   "id": "7ed73c73",
   "metadata": {
    "papermill": {
     "duration": 0.184786,
     "end_time": "2021-09-09T14:59:45.219233",
     "exception": false,
     "start_time": "2021-09-09T14:59:45.034447",
     "status": "completed"
    },
    "tags": []
   },
   "outputs": [
    {
     "name": "stderr",
     "output_type": "stream",
     "text": [
      "C:\\Users\\Ramanjaneyareddy\\AppData\\Local\\Programs\\Python\\Python39\\lib\\site-packages\\sklearn\\linear_model\\_base.py:141: FutureWarning: 'normalize' was deprecated in version 1.0 and will be removed in 1.2.\n",
      "If you wish to scale the data, use Pipeline with a StandardScaler in a preprocessing stage. To reproduce the previous behavior:\n",
      "\n",
      "from sklearn.pipeline import make_pipeline\n",
      "\n",
      "model = make_pipeline(StandardScaler(with_mean=False), LinearRegression())\n",
      "\n",
      "If you wish to pass a sample_weight parameter, you need to pass it as a fit parameter to each step of the pipeline as follows:\n",
      "\n",
      "kwargs = {s[0] + '__sample_weight': sample_weight for s in model.steps}\n",
      "model.fit(X, y, **kwargs)\n",
      "\n",
      "\n",
      "  warnings.warn(\n"
     ]
    },
    {
     "data": {
      "text/plain": [
       "LinearRegression(normalize=True)"
      ]
     },
     "execution_count": 63,
     "metadata": {},
     "output_type": "execute_result"
    }
   ],
   "source": [
    "model=LinearRegression(normalize=True)\n",
    "model.fit(X_train, y_train)"
   ]
  },
  {
   "cell_type": "code",
   "execution_count": 64,
   "id": "ec2ba88e",
   "metadata": {
    "papermill": {
     "duration": 0.141066,
     "end_time": "2021-09-09T14:59:45.492408",
     "exception": false,
     "start_time": "2021-09-09T14:59:45.351342",
     "status": "completed"
    },
    "tags": []
   },
   "outputs": [],
   "source": [
    "pred_score=model.predict(X_test)\n",
    "train_score=model.predict(X_train)"
   ]
  },
  {
   "cell_type": "code",
   "execution_count": 65,
   "id": "6a5c8c22",
   "metadata": {
    "papermill": {
     "duration": 0.137468,
     "end_time": "2021-09-09T14:59:45.758302",
     "exception": false,
     "start_time": "2021-09-09T14:59:45.620834",
     "status": "completed"
    },
    "tags": []
   },
   "outputs": [
    {
     "data": {
      "text/plain": [
       "0.5073404805332139"
      ]
     },
     "execution_count": 65,
     "metadata": {},
     "output_type": "execute_result"
    }
   ],
   "source": [
    "metrics.r2_score(y_train,train_score)"
   ]
  },
  {
   "cell_type": "code",
   "execution_count": 66,
   "id": "7b052ceb",
   "metadata": {
    "papermill": {
     "duration": 0.139589,
     "end_time": "2021-09-09T14:59:46.027852",
     "exception": false,
     "start_time": "2021-09-09T14:59:45.888263",
     "status": "completed"
    },
    "tags": []
   },
   "outputs": [
    {
     "data": {
      "text/plain": [
       "0.42880707675239393"
      ]
     },
     "execution_count": 66,
     "metadata": {},
     "output_type": "execute_result"
    }
   ],
   "source": [
    "metrics.r2_score(y_test,pred_score)"
   ]
  },
  {
   "cell_type": "markdown",
   "id": "41a0a104",
   "metadata": {
    "papermill": {
     "duration": 0.170508,
     "end_time": "2021-09-09T14:59:46.332898",
     "exception": false,
     "start_time": "2021-09-09T14:59:46.162390",
     "status": "completed"
    },
    "tags": []
   },
   "source": [
    "We find that our model has an accuracy of around 43% with use of log prices in our regression"
   ]
  },
  {
   "cell_type": "markdown",
   "id": "144a3440",
   "metadata": {
    "papermill": {
     "duration": 0.128847,
     "end_time": "2021-09-09T14:59:46.594436",
     "exception": false,
     "start_time": "2021-09-09T14:59:46.465589",
     "status": "completed"
    },
    "tags": []
   },
   "source": [
    "### Decision Tree Regression\n",
    "    •\tWhen a decision tree classifies things into categories it’s called a classification tree. (Outcome of the data is discrete or its categorical) e.g., presence or absence of students, person died or survived. \n",
    "    •\tWhen a decision tree predicts numerical values it’s a regression tree. (Outcome of the data is continuous in nature) e.g., house prices, age of a person, length of stay in hotel.\n",
    "    \n",
    "       Decision trees learn by splitting the training examples in a way such that the sum of squared residuals is minimized. \n",
    "       It then predicts the output value by taking the average of all of the examples that fall into a certain leaf on the              decision tree and using that as the output prediction\n",
    "       \n",
    "       Worth noting is that decision trees are prone to overting hence to resolve this Random Forest Regression helps to reduce \n",
    "       overfitting by  aggregating the results of multiple decision trees on the same dataset.\n"
   ]
  },
  {
   "cell_type": "code",
   "execution_count": 67,
   "id": "14531f39",
   "metadata": {
    "papermill": {
     "duration": 0.218559,
     "end_time": "2021-09-09T14:59:46.946539",
     "exception": false,
     "start_time": "2021-09-09T14:59:46.727980",
     "status": "completed"
    },
    "tags": []
   },
   "outputs": [],
   "source": [
    "from sklearn.tree import DecisionTreeRegressor\n",
    "\n",
    "\n",
    "X=data_dum.drop('Price',axis=1)\n",
    "y=data_dum['Price']\n",
    "train_x,val_x,train_y,val_y = train_test_split(X,y,random_state=0)\n"
   ]
  },
  {
   "cell_type": "markdown",
   "id": "4e5e388f",
   "metadata": {
    "papermill": {
     "duration": 0.13392,
     "end_time": "2021-09-09T14:59:47.212798",
     "exception": false,
     "start_time": "2021-09-09T14:59:47.078878",
     "status": "completed"
    },
    "tags": []
   },
   "source": [
    "### Define our Model"
   ]
  },
  {
   "cell_type": "code",
   "execution_count": 68,
   "id": "a53abdd9",
   "metadata": {
    "papermill": {
     "duration": 0.139093,
     "end_time": "2021-09-09T14:59:47.483261",
     "exception": false,
     "start_time": "2021-09-09T14:59:47.344168",
     "status": "completed"
    },
    "tags": []
   },
   "outputs": [],
   "source": [
    "ml_model = DecisionTreeRegressor(max_depth=2)"
   ]
  },
  {
   "cell_type": "markdown",
   "id": "3ed1eaa7",
   "metadata": {
    "papermill": {
     "duration": 0.131703,
     "end_time": "2021-09-09T14:59:47.744337",
     "exception": false,
     "start_time": "2021-09-09T14:59:47.612634",
     "status": "completed"
    },
    "tags": []
   },
   "source": [
    "### Fit our Model  "
   ]
  },
  {
   "cell_type": "code",
   "execution_count": 69,
   "id": "275bf4e6",
   "metadata": {
    "papermill": {
     "duration": 0.143359,
     "end_time": "2021-09-09T14:59:48.019560",
     "exception": false,
     "start_time": "2021-09-09T14:59:47.876201",
     "status": "completed"
    },
    "tags": []
   },
   "outputs": [
    {
     "data": {
      "text/plain": [
       "DecisionTreeRegressor(max_depth=2)"
      ]
     },
     "execution_count": 69,
     "metadata": {},
     "output_type": "execute_result"
    }
   ],
   "source": [
    "ml_model.fit(X,y)"
   ]
  },
  {
   "cell_type": "markdown",
   "id": "a7642aca",
   "metadata": {
    "papermill": {
     "duration": 0.133001,
     "end_time": "2021-09-09T14:59:48.286791",
     "exception": false,
     "start_time": "2021-09-09T14:59:48.153790",
     "status": "completed"
    },
    "tags": []
   },
   "source": [
    "### Predict our Model"
   ]
  },
  {
   "cell_type": "code",
   "execution_count": 70,
   "id": "ddffa9ab",
   "metadata": {
    "papermill": {
     "duration": 0.136861,
     "end_time": "2021-09-09T14:59:48.558024",
     "exception": false,
     "start_time": "2021-09-09T14:59:48.421163",
     "status": "completed"
    },
    "tags": []
   },
   "outputs": [],
   "source": [
    "dt_pred=ml_model.predict(val_x)"
   ]
  },
  {
   "cell_type": "markdown",
   "id": "43f21f2f",
   "metadata": {
    "papermill": {
     "duration": 0.133459,
     "end_time": "2021-09-09T14:59:48.825114",
     "exception": false,
     "start_time": "2021-09-09T14:59:48.691655",
     "status": "completed"
    },
    "tags": []
   },
   "source": [
    "### Evaluate our Model"
   ]
  },
  {
   "cell_type": "code",
   "execution_count": 71,
   "id": "f5563c4b",
   "metadata": {
    "papermill": {
     "duration": 0.141284,
     "end_time": "2021-09-09T14:59:49.101417",
     "exception": false,
     "start_time": "2021-09-09T14:59:48.960133",
     "status": "completed"
    },
    "tags": []
   },
   "outputs": [
    {
     "data": {
      "text/plain": [
       "975.359174449879"
      ]
     },
     "execution_count": 71,
     "metadata": {},
     "output_type": "execute_result"
    }
   ],
   "source": [
    "metrics.mean_absolute_error(val_y,dt_pred)"
   ]
  },
  {
   "cell_type": "code",
   "execution_count": 72,
   "id": "412e9477",
   "metadata": {
    "papermill": {
     "duration": 0.145,
     "end_time": "2021-09-09T14:59:49.383072",
     "exception": false,
     "start_time": "2021-09-09T14:59:49.238072",
     "status": "completed"
    },
    "tags": []
   },
   "outputs": [
    {
     "data": {
      "text/plain": [
       "0.6416561124580894"
      ]
     },
     "execution_count": 72,
     "metadata": {},
     "output_type": "execute_result"
    }
   ],
   "source": [
    "ml_model.score(train_x,train_y)"
   ]
  },
  {
   "cell_type": "code",
   "execution_count": 73,
   "id": "6e465a65",
   "metadata": {
    "papermill": {
     "duration": 0.150038,
     "end_time": "2021-09-09T14:59:49.669553",
     "exception": false,
     "start_time": "2021-09-09T14:59:49.519515",
     "status": "completed"
    },
    "tags": []
   },
   "outputs": [
    {
     "data": {
      "text/plain": [
       "0.6256173358877914"
      ]
     },
     "execution_count": 73,
     "metadata": {},
     "output_type": "execute_result"
    }
   ],
   "source": [
    "ml_model.score(val_x,val_y)"
   ]
  },
  {
   "cell_type": "code",
   "execution_count": 74,
   "id": "111892a5",
   "metadata": {
    "papermill": {
     "duration": 0.143961,
     "end_time": "2021-09-09T14:59:49.950411",
     "exception": false,
     "start_time": "2021-09-09T14:59:49.806450",
     "status": "completed"
    },
    "tags": []
   },
   "outputs": [],
   "source": [
    "#calculating the mean absolute error across our testing data\n",
    "def get_mae(leaf_nodes,train_x,val_x,train_y,val_y):\n",
    "    ml_model = DecisionTreeRegressor(max_leaf_nodes=leaf_nodes,random_state=0)\n",
    "    ml_model.fit(X,y)\n",
    "    a = ml_model.predict(val_x)\n",
    "    mae = metrics.mean_absolute_error(val_y,a)\n",
    "    return(mae)"
   ]
  },
  {
   "cell_type": "code",
   "execution_count": 75,
   "id": "5a021073",
   "metadata": {
    "papermill": {
     "duration": 0.18214,
     "end_time": "2021-09-09T14:59:50.270318",
     "exception": false,
     "start_time": "2021-09-09T14:59:50.088178",
     "status": "completed"
    },
    "tags": []
   },
   "outputs": [
    {
     "name": "stdout",
     "output_type": "stream",
     "text": [
      "10   >>>>>>>>>>   564.0226707872703\n",
      "60   >>>>>>>>>>   251.68842516399346\n",
      "110   >>>>>>>>>>   198.1707185332482\n",
      "160   >>>>>>>>>>   153.11928576992102\n",
      "210   >>>>>>>>>>   134.7496446206616\n",
      "260   >>>>>>>>>>   110.6652911913801\n"
     ]
    }
   ],
   "source": [
    "#sample of mean absolute errors obtain with our decision tree model\n",
    "for leaf_nodes in np.arange(10,300,50):\n",
    "    mae = get_mae(leaf_nodes,train_x,val_x,train_y,val_y)\n",
    "    print(leaf_nodes,\"  >>>>>>>>>>  \",mae)"
   ]
  },
  {
   "cell_type": "markdown",
   "id": "2bec705e",
   "metadata": {
    "papermill": {
     "duration": 0.137584,
     "end_time": "2021-09-09T14:59:50.545468",
     "exception": false,
     "start_time": "2021-09-09T14:59:50.407884",
     "status": "completed"
    },
    "tags": []
   },
   "source": [
    "### Generating our decision tree image"
   ]
  },
  {
   "cell_type": "code",
   "execution_count": 76,
   "id": "2372e0c4",
   "metadata": {
    "papermill": {
     "duration": 0.51622,
     "end_time": "2021-09-09T14:59:51.197603",
     "exception": false,
     "start_time": "2021-09-09T14:59:50.681383",
     "status": "completed"
    },
    "tags": []
   },
   "outputs": [
    {
     "ename": "ExecutableNotFound",
     "evalue": "failed to execute WindowsPath('dot'), make sure the Graphviz executables are on your systems' PATH",
     "output_type": "error",
     "traceback": [
      "\u001b[1;31m---------------------------------------------------------------------------\u001b[0m",
      "\u001b[1;31mFileNotFoundError\u001b[0m                         Traceback (most recent call last)",
      "\u001b[1;32m~\\AppData\\Local\\Programs\\Python\\Python39\\lib\\site-packages\\graphviz\\backend\\execute.py\u001b[0m in \u001b[0;36mrun_check\u001b[1;34m(cmd, input_lines, encoding, capture_output, quiet, **kwargs)\u001b[0m\n\u001b[0;32m     82\u001b[0m             \u001b[1;32massert\u001b[0m \u001b[0miter\u001b[0m\u001b[1;33m(\u001b[0m\u001b[0minput_lines\u001b[0m\u001b[1;33m)\u001b[0m \u001b[1;32mis\u001b[0m \u001b[0minput_lines\u001b[0m\u001b[1;33m\u001b[0m\u001b[1;33m\u001b[0m\u001b[0m\n\u001b[1;32m---> 83\u001b[1;33m             \u001b[0mproc\u001b[0m \u001b[1;33m=\u001b[0m \u001b[0m_run_input_lines\u001b[0m\u001b[1;33m(\u001b[0m\u001b[0mcmd\u001b[0m\u001b[1;33m,\u001b[0m \u001b[0minput_lines\u001b[0m\u001b[1;33m,\u001b[0m \u001b[0mkwargs\u001b[0m\u001b[1;33m=\u001b[0m\u001b[0mkwargs\u001b[0m\u001b[1;33m)\u001b[0m\u001b[1;33m\u001b[0m\u001b[1;33m\u001b[0m\u001b[0m\n\u001b[0m\u001b[0;32m     84\u001b[0m         \u001b[1;32melse\u001b[0m\u001b[1;33m:\u001b[0m\u001b[1;33m\u001b[0m\u001b[1;33m\u001b[0m\u001b[0m\n",
      "\u001b[1;32m~\\AppData\\Local\\Programs\\Python\\Python39\\lib\\site-packages\\graphviz\\backend\\execute.py\u001b[0m in \u001b[0;36m_run_input_lines\u001b[1;34m(cmd, input_lines, kwargs)\u001b[0m\n\u001b[0;32m    102\u001b[0m \u001b[1;32mdef\u001b[0m \u001b[0m_run_input_lines\u001b[0m\u001b[1;33m(\u001b[0m\u001b[0mcmd\u001b[0m\u001b[1;33m,\u001b[0m \u001b[0minput_lines\u001b[0m\u001b[1;33m,\u001b[0m \u001b[1;33m*\u001b[0m\u001b[1;33m,\u001b[0m \u001b[0mkwargs\u001b[0m\u001b[1;33m)\u001b[0m\u001b[1;33m:\u001b[0m\u001b[1;33m\u001b[0m\u001b[1;33m\u001b[0m\u001b[0m\n\u001b[1;32m--> 103\u001b[1;33m     \u001b[0mpopen\u001b[0m \u001b[1;33m=\u001b[0m \u001b[0msubprocess\u001b[0m\u001b[1;33m.\u001b[0m\u001b[0mPopen\u001b[0m\u001b[1;33m(\u001b[0m\u001b[0mcmd\u001b[0m\u001b[1;33m,\u001b[0m \u001b[0mstdin\u001b[0m\u001b[1;33m=\u001b[0m\u001b[0msubprocess\u001b[0m\u001b[1;33m.\u001b[0m\u001b[0mPIPE\u001b[0m\u001b[1;33m,\u001b[0m \u001b[1;33m**\u001b[0m\u001b[0mkwargs\u001b[0m\u001b[1;33m)\u001b[0m\u001b[1;33m\u001b[0m\u001b[1;33m\u001b[0m\u001b[0m\n\u001b[0m\u001b[0;32m    104\u001b[0m \u001b[1;33m\u001b[0m\u001b[0m\n",
      "\u001b[1;32m~\\AppData\\Local\\Programs\\Python\\Python39\\lib\\subprocess.py\u001b[0m in \u001b[0;36m__init__\u001b[1;34m(self, args, bufsize, executable, stdin, stdout, stderr, preexec_fn, close_fds, shell, cwd, env, universal_newlines, startupinfo, creationflags, restore_signals, start_new_session, pass_fds, user, group, extra_groups, encoding, errors, text, umask)\u001b[0m\n\u001b[0;32m    950\u001b[0m \u001b[1;33m\u001b[0m\u001b[0m\n\u001b[1;32m--> 951\u001b[1;33m             self._execute_child(args, executable, preexec_fn, close_fds,\n\u001b[0m\u001b[0;32m    952\u001b[0m                                 \u001b[0mpass_fds\u001b[0m\u001b[1;33m,\u001b[0m \u001b[0mcwd\u001b[0m\u001b[1;33m,\u001b[0m \u001b[0menv\u001b[0m\u001b[1;33m,\u001b[0m\u001b[1;33m\u001b[0m\u001b[1;33m\u001b[0m\u001b[0m\n",
      "\u001b[1;32m~\\AppData\\Local\\Programs\\Python\\Python39\\lib\\subprocess.py\u001b[0m in \u001b[0;36m_execute_child\u001b[1;34m(self, args, executable, preexec_fn, close_fds, pass_fds, cwd, env, startupinfo, creationflags, shell, p2cread, p2cwrite, c2pread, c2pwrite, errread, errwrite, unused_restore_signals, unused_gid, unused_gids, unused_uid, unused_umask, unused_start_new_session)\u001b[0m\n\u001b[0;32m   1419\u001b[0m             \u001b[1;32mtry\u001b[0m\u001b[1;33m:\u001b[0m\u001b[1;33m\u001b[0m\u001b[1;33m\u001b[0m\u001b[0m\n\u001b[1;32m-> 1420\u001b[1;33m                 hp, ht, pid, tid = _winapi.CreateProcess(executable, args,\n\u001b[0m\u001b[0;32m   1421\u001b[0m                                          \u001b[1;31m# no special security\u001b[0m\u001b[1;33m\u001b[0m\u001b[1;33m\u001b[0m\u001b[0m\n",
      "\u001b[1;31mFileNotFoundError\u001b[0m: [WinError 2] The system cannot find the file specified",
      "\nThe above exception was the direct cause of the following exception:\n",
      "\u001b[1;31mExecutableNotFound\u001b[0m                        Traceback (most recent call last)",
      "\u001b[1;32mC:\\Users\\RAMANJ~1\\AppData\\Local\\Temp/ipykernel_1108/3092802729.py\u001b[0m in \u001b[0;36m<module>\u001b[1;34m\u001b[0m\n\u001b[0;32m      4\u001b[0m \u001b[0mlabels\u001b[0m \u001b[1;33m=\u001b[0m \u001b[0mX\u001b[0m\u001b[1;33m.\u001b[0m\u001b[0mcolumns\u001b[0m\u001b[1;33m\u001b[0m\u001b[1;33m\u001b[0m\u001b[0m\n\u001b[0;32m      5\u001b[0m \u001b[0mgraph\u001b[0m \u001b[1;33m=\u001b[0m \u001b[0mSource\u001b[0m\u001b[1;33m(\u001b[0m\u001b[0mtree\u001b[0m\u001b[1;33m.\u001b[0m\u001b[0mexport_graphviz\u001b[0m\u001b[1;33m(\u001b[0m\u001b[0mml_model\u001b[0m \u001b[1;33m,\u001b[0m\u001b[0mfeature_names\u001b[0m \u001b[1;33m=\u001b[0m \u001b[0mlabels\u001b[0m\u001b[1;33m,\u001b[0m \u001b[0mmax_depth\u001b[0m \u001b[1;33m=\u001b[0m \u001b[1;36m2\u001b[0m\u001b[1;33m,\u001b[0m \u001b[0mfilled\u001b[0m \u001b[1;33m=\u001b[0m \u001b[1;32mTrue\u001b[0m\u001b[1;33m)\u001b[0m\u001b[1;33m)\u001b[0m\u001b[1;33m\u001b[0m\u001b[1;33m\u001b[0m\u001b[0m\n\u001b[1;32m----> 6\u001b[1;33m \u001b[0mdisplay\u001b[0m\u001b[1;33m(\u001b[0m\u001b[0mSVG\u001b[0m\u001b[1;33m(\u001b[0m\u001b[0mgraph\u001b[0m\u001b[1;33m.\u001b[0m\u001b[0mpipe\u001b[0m\u001b[1;33m(\u001b[0m\u001b[0mformat\u001b[0m\u001b[1;33m=\u001b[0m\u001b[1;34m'svg'\u001b[0m\u001b[1;33m)\u001b[0m\u001b[1;33m)\u001b[0m\u001b[1;33m)\u001b[0m\u001b[1;33m\u001b[0m\u001b[1;33m\u001b[0m\u001b[0m\n\u001b[0m",
      "\u001b[1;32m~\\AppData\\Local\\Programs\\Python\\Python39\\lib\\site-packages\\graphviz\\piping.py\u001b[0m in \u001b[0;36mpipe\u001b[1;34m(self, format, renderer, formatter, quiet, engine, encoding)\u001b[0m\n\u001b[0;32m     97\u001b[0m             \u001b[1;34m'<?xml version='\u001b[0m\u001b[1;33m\u001b[0m\u001b[1;33m\u001b[0m\u001b[0m\n\u001b[0;32m     98\u001b[0m         \"\"\"\n\u001b[1;32m---> 99\u001b[1;33m         return self._pipe_legacy(format,\n\u001b[0m\u001b[0;32m    100\u001b[0m                                  \u001b[0mrenderer\u001b[0m\u001b[1;33m=\u001b[0m\u001b[0mrenderer\u001b[0m\u001b[1;33m,\u001b[0m\u001b[1;33m\u001b[0m\u001b[1;33m\u001b[0m\u001b[0m\n\u001b[0;32m    101\u001b[0m                                  \u001b[0mformatter\u001b[0m\u001b[1;33m=\u001b[0m\u001b[0mformatter\u001b[0m\u001b[1;33m,\u001b[0m\u001b[1;33m\u001b[0m\u001b[1;33m\u001b[0m\u001b[0m\n",
      "\u001b[1;32m~\\AppData\\Local\\Programs\\Python\\Python39\\lib\\site-packages\\graphviz\\_tools.py\u001b[0m in \u001b[0;36mwrapper\u001b[1;34m(*args, **kwargs)\u001b[0m\n\u001b[0;32m    170\u001b[0m                               category=category)\n\u001b[0;32m    171\u001b[0m \u001b[1;33m\u001b[0m\u001b[0m\n\u001b[1;32m--> 172\u001b[1;33m             \u001b[1;32mreturn\u001b[0m \u001b[0mfunc\u001b[0m\u001b[1;33m(\u001b[0m\u001b[1;33m*\u001b[0m\u001b[0margs\u001b[0m\u001b[1;33m,\u001b[0m \u001b[1;33m**\u001b[0m\u001b[0mkwargs\u001b[0m\u001b[1;33m)\u001b[0m\u001b[1;33m\u001b[0m\u001b[1;33m\u001b[0m\u001b[0m\n\u001b[0m\u001b[0;32m    173\u001b[0m \u001b[1;33m\u001b[0m\u001b[0m\n\u001b[0;32m    174\u001b[0m         \u001b[1;32mreturn\u001b[0m \u001b[0mwrapper\u001b[0m\u001b[1;33m\u001b[0m\u001b[1;33m\u001b[0m\u001b[0m\n",
      "\u001b[1;32m~\\AppData\\Local\\Programs\\Python\\Python39\\lib\\site-packages\\graphviz\\piping.py\u001b[0m in \u001b[0;36m_pipe_legacy\u001b[1;34m(self, format, renderer, formatter, quiet, engine, encoding)\u001b[0m\n\u001b[0;32m    112\u001b[0m                      \u001b[0mengine\u001b[0m\u001b[1;33m:\u001b[0m \u001b[0mtyping\u001b[0m\u001b[1;33m.\u001b[0m\u001b[0mOptional\u001b[0m\u001b[1;33m[\u001b[0m\u001b[0mstr\u001b[0m\u001b[1;33m]\u001b[0m \u001b[1;33m=\u001b[0m \u001b[1;32mNone\u001b[0m\u001b[1;33m,\u001b[0m\u001b[1;33m\u001b[0m\u001b[1;33m\u001b[0m\u001b[0m\n\u001b[0;32m    113\u001b[0m                      encoding: typing.Optional[str] = None) -> typing.Union[bytes, str]:\n\u001b[1;32m--> 114\u001b[1;33m         return self._pipe_future(format,\n\u001b[0m\u001b[0;32m    115\u001b[0m                                  \u001b[0mrenderer\u001b[0m\u001b[1;33m=\u001b[0m\u001b[0mrenderer\u001b[0m\u001b[1;33m,\u001b[0m\u001b[1;33m\u001b[0m\u001b[1;33m\u001b[0m\u001b[0m\n\u001b[0;32m    116\u001b[0m                                  \u001b[0mformatter\u001b[0m\u001b[1;33m=\u001b[0m\u001b[0mformatter\u001b[0m\u001b[1;33m,\u001b[0m\u001b[1;33m\u001b[0m\u001b[1;33m\u001b[0m\u001b[0m\n",
      "\u001b[1;32m~\\AppData\\Local\\Programs\\Python\\Python39\\lib\\site-packages\\graphviz\\piping.py\u001b[0m in \u001b[0;36m_pipe_future\u001b[1;34m(self, format, renderer, formatter, quiet, engine, encoding)\u001b[0m\n\u001b[0;32m    149\u001b[0m             \u001b[1;32melse\u001b[0m\u001b[1;33m:\u001b[0m\u001b[1;33m\u001b[0m\u001b[1;33m\u001b[0m\u001b[0m\n\u001b[0;32m    150\u001b[0m                 \u001b[1;32mreturn\u001b[0m \u001b[0mraw\u001b[0m\u001b[1;33m.\u001b[0m\u001b[0mdecode\u001b[0m\u001b[1;33m(\u001b[0m\u001b[0mencoding\u001b[0m\u001b[1;33m)\u001b[0m\u001b[1;33m\u001b[0m\u001b[1;33m\u001b[0m\u001b[0m\n\u001b[1;32m--> 151\u001b[1;33m         \u001b[1;32mreturn\u001b[0m \u001b[0mself\u001b[0m\u001b[1;33m.\u001b[0m\u001b[0m_pipe_lines\u001b[0m\u001b[1;33m(\u001b[0m\u001b[1;33m*\u001b[0m\u001b[0margs\u001b[0m\u001b[1;33m,\u001b[0m \u001b[0minput_encoding\u001b[0m\u001b[1;33m=\u001b[0m\u001b[0mself\u001b[0m\u001b[1;33m.\u001b[0m\u001b[0mencoding\u001b[0m\u001b[1;33m,\u001b[0m \u001b[1;33m**\u001b[0m\u001b[0mkwargs\u001b[0m\u001b[1;33m)\u001b[0m\u001b[1;33m\u001b[0m\u001b[1;33m\u001b[0m\u001b[0m\n\u001b[0m",
      "\u001b[1;32m~\\AppData\\Local\\Programs\\Python\\Python39\\lib\\site-packages\\graphviz\\backend\\piping.py\u001b[0m in \u001b[0;36mpipe_lines\u001b[1;34m(engine, format, input_lines, input_encoding, renderer, formatter, quiet)\u001b[0m\n\u001b[0;32m    147\u001b[0m     \u001b[0mkwargs\u001b[0m \u001b[1;33m=\u001b[0m \u001b[1;33m{\u001b[0m\u001b[1;34m'input_lines'\u001b[0m\u001b[1;33m:\u001b[0m \u001b[1;33m(\u001b[0m\u001b[0mline\u001b[0m\u001b[1;33m.\u001b[0m\u001b[0mencode\u001b[0m\u001b[1;33m(\u001b[0m\u001b[0minput_encoding\u001b[0m\u001b[1;33m)\u001b[0m \u001b[1;32mfor\u001b[0m \u001b[0mline\u001b[0m \u001b[1;32min\u001b[0m \u001b[0minput_lines\u001b[0m\u001b[1;33m)\u001b[0m\u001b[1;33m}\u001b[0m\u001b[1;33m\u001b[0m\u001b[1;33m\u001b[0m\u001b[0m\n\u001b[0;32m    148\u001b[0m \u001b[1;33m\u001b[0m\u001b[0m\n\u001b[1;32m--> 149\u001b[1;33m     \u001b[0mproc\u001b[0m \u001b[1;33m=\u001b[0m \u001b[0mexecute\u001b[0m\u001b[1;33m.\u001b[0m\u001b[0mrun_check\u001b[0m\u001b[1;33m(\u001b[0m\u001b[0mcmd\u001b[0m\u001b[1;33m,\u001b[0m \u001b[0mcapture_output\u001b[0m\u001b[1;33m=\u001b[0m\u001b[1;32mTrue\u001b[0m\u001b[1;33m,\u001b[0m \u001b[0mquiet\u001b[0m\u001b[1;33m=\u001b[0m\u001b[0mquiet\u001b[0m\u001b[1;33m,\u001b[0m \u001b[1;33m**\u001b[0m\u001b[0mkwargs\u001b[0m\u001b[1;33m)\u001b[0m\u001b[1;33m\u001b[0m\u001b[1;33m\u001b[0m\u001b[0m\n\u001b[0m\u001b[0;32m    150\u001b[0m     \u001b[1;32mreturn\u001b[0m \u001b[0mproc\u001b[0m\u001b[1;33m.\u001b[0m\u001b[0mstdout\u001b[0m\u001b[1;33m\u001b[0m\u001b[1;33m\u001b[0m\u001b[0m\n\u001b[0;32m    151\u001b[0m \u001b[1;33m\u001b[0m\u001b[0m\n",
      "\u001b[1;32m~\\AppData\\Local\\Programs\\Python\\Python39\\lib\\site-packages\\graphviz\\backend\\execute.py\u001b[0m in \u001b[0;36mrun_check\u001b[1;34m(cmd, input_lines, encoding, capture_output, quiet, **kwargs)\u001b[0m\n\u001b[0;32m     86\u001b[0m     \u001b[1;32mexcept\u001b[0m \u001b[0mOSError\u001b[0m \u001b[1;32mas\u001b[0m \u001b[0me\u001b[0m\u001b[1;33m:\u001b[0m\u001b[1;33m\u001b[0m\u001b[1;33m\u001b[0m\u001b[0m\n\u001b[0;32m     87\u001b[0m         \u001b[1;32mif\u001b[0m \u001b[0me\u001b[0m\u001b[1;33m.\u001b[0m\u001b[0merrno\u001b[0m \u001b[1;33m==\u001b[0m \u001b[0merrno\u001b[0m\u001b[1;33m.\u001b[0m\u001b[0mENOENT\u001b[0m\u001b[1;33m:\u001b[0m\u001b[1;33m\u001b[0m\u001b[1;33m\u001b[0m\u001b[0m\n\u001b[1;32m---> 88\u001b[1;33m             \u001b[1;32mraise\u001b[0m \u001b[0mExecutableNotFound\u001b[0m\u001b[1;33m(\u001b[0m\u001b[0mcmd\u001b[0m\u001b[1;33m)\u001b[0m \u001b[1;32mfrom\u001b[0m \u001b[0me\u001b[0m\u001b[1;33m\u001b[0m\u001b[1;33m\u001b[0m\u001b[0m\n\u001b[0m\u001b[0;32m     89\u001b[0m         \u001b[1;32mraise\u001b[0m\u001b[1;33m\u001b[0m\u001b[1;33m\u001b[0m\u001b[0m\n\u001b[0;32m     90\u001b[0m \u001b[1;33m\u001b[0m\u001b[0m\n",
      "\u001b[1;31mExecutableNotFound\u001b[0m: failed to execute WindowsPath('dot'), make sure the Graphviz executables are on your systems' PATH"
     ]
    }
   ],
   "source": [
    "from graphviz import Source\n",
    "from sklearn import tree\n",
    "from IPython.display import SVG\n",
    "labels = X.columns\n",
    "graph = Source(tree.export_graphviz(ml_model ,feature_names = labels, max_depth = 2, filled = True))\n",
    "display(SVG(graph.pipe(format='svg')))"
   ]
  },
  {
   "cell_type": "markdown",
   "id": "c31464bb",
   "metadata": {
    "papermill": {
     "duration": 0.140111,
     "end_time": "2021-09-09T14:59:51.476436",
     "exception": false,
     "start_time": "2021-09-09T14:59:51.336325",
     "status": "completed"
    },
    "tags": []
   },
   "source": [
    "### Buidling A Random Forest Regression"
   ]
  },
  {
   "cell_type": "code",
   "execution_count": 77,
   "id": "c549cb80",
   "metadata": {
    "papermill": {
     "duration": 0.168942,
     "end_time": "2021-09-09T14:59:51.785445",
     "exception": false,
     "start_time": "2021-09-09T14:59:51.616503",
     "status": "completed"
    },
    "tags": []
   },
   "outputs": [],
   "source": [
    "from sklearn.ensemble import RandomForestRegressor \n",
    "from sklearn.preprocessing import StandardScaler"
   ]
  },
  {
   "cell_type": "code",
   "execution_count": 78,
   "id": "fdd370f5",
   "metadata": {
    "papermill": {
     "duration": 0.149619,
     "end_time": "2021-09-09T14:59:52.069272",
     "exception": false,
     "start_time": "2021-09-09T14:59:51.919653",
     "status": "completed"
    },
    "scrolled": true,
    "tags": []
   },
   "outputs": [],
   "source": [
    "#defining our training data\n",
    "X_data=data_dum.drop('Price',axis=1)\n",
    "y_data=data_dum.Price\n",
    "#Creating our training and test dataset\n",
    "X_train,X_test,y_train,y_test=train_test_split(X_data,y_data,test_size=0.3,random_state=42)"
   ]
  },
  {
   "cell_type": "markdown",
   "id": "ac2f7932",
   "metadata": {
    "papermill": {
     "duration": 0.133039,
     "end_time": "2021-09-09T14:59:52.337694",
     "exception": false,
     "start_time": "2021-09-09T14:59:52.204655",
     "status": "completed"
    },
    "tags": []
   },
   "source": [
    "### Define our Model"
   ]
  },
  {
   "cell_type": "code",
   "execution_count": 79,
   "id": "f1f1ae9d",
   "metadata": {
    "papermill": {
     "duration": 0.139052,
     "end_time": "2021-09-09T14:59:52.608738",
     "exception": false,
     "start_time": "2021-09-09T14:59:52.469686",
     "status": "completed"
    },
    "tags": []
   },
   "outputs": [],
   "source": [
    "regressor=RandomForestRegressor(n_estimators=1000)"
   ]
  },
  {
   "cell_type": "markdown",
   "id": "b60e78d9",
   "metadata": {
    "papermill": {
     "duration": 0.133575,
     "end_time": "2021-09-09T14:59:52.875461",
     "exception": false,
     "start_time": "2021-09-09T14:59:52.741886",
     "status": "completed"
    },
    "tags": []
   },
   "source": [
    "### Fitting our model\n"
   ]
  },
  {
   "cell_type": "code",
   "execution_count": 80,
   "id": "7fb51bb6",
   "metadata": {
    "papermill": {
     "duration": 2.778974,
     "end_time": "2021-09-09T14:59:55.789429",
     "exception": false,
     "start_time": "2021-09-09T14:59:53.010455",
     "status": "completed"
    },
    "scrolled": true,
    "tags": []
   },
   "outputs": [
    {
     "data": {
      "text/plain": [
       "RandomForestRegressor(n_estimators=1000)"
      ]
     },
     "execution_count": 80,
     "metadata": {},
     "output_type": "execute_result"
    }
   ],
   "source": [
    "regressor.fit(X_train,y_train)"
   ]
  },
  {
   "cell_type": "markdown",
   "id": "2408a2b8",
   "metadata": {
    "papermill": {
     "duration": 0.13783,
     "end_time": "2021-09-09T14:59:56.063515",
     "exception": false,
     "start_time": "2021-09-09T14:59:55.925685",
     "status": "completed"
    },
    "tags": []
   },
   "source": [
    "### Prediction"
   ]
  },
  {
   "cell_type": "code",
   "execution_count": 81,
   "id": "59a6131c",
   "metadata": {
    "papermill": {
     "duration": 0.147128,
     "end_time": "2021-09-09T14:59:56.371984",
     "exception": false,
     "start_time": "2021-09-09T14:59:56.224856",
     "status": "completed"
    },
    "tags": []
   },
   "outputs": [],
   "source": [
    "pred=model.predict(X_test)\n",
    "train=model.predict(X_train)"
   ]
  },
  {
   "cell_type": "markdown",
   "id": "c79692fe",
   "metadata": {
    "papermill": {
     "duration": 0.133917,
     "end_time": "2021-09-09T14:59:56.639513",
     "exception": false,
     "start_time": "2021-09-09T14:59:56.505596",
     "status": "completed"
    },
    "tags": []
   },
   "source": [
    "### Random Forest Evaluation"
   ]
  },
  {
   "cell_type": "code",
   "execution_count": 82,
   "id": "7d25f225",
   "metadata": {
    "papermill": {
     "duration": 0.14849,
     "end_time": "2021-09-09T14:59:56.920225",
     "exception": false,
     "start_time": "2021-09-09T14:59:56.771735",
     "status": "completed"
    },
    "tags": []
   },
   "outputs": [
    {
     "name": "stdout",
     "output_type": "stream",
     "text": [
      "\n",
      "Metrics on Training Data Random Forest Regression\n",
      " \n",
      "MAE: 3189.6001456082436\n",
      "MSE: 15738418.820858497\n",
      "RMSE: 3967.167606852337\n",
      "\n",
      "Metrics on Testing Data Random Forest Regression\n",
      "\n",
      "MAE: 3159.510500323896\n",
      "MSE: 15799705.792733997\n",
      "RMSE: 3974.884374762868\n"
     ]
    }
   ],
   "source": [
    "print('\\nMetrics on Training Data Random Forest Regression\\n ')\n",
    "print('MAE:', metrics.mean_absolute_error(y_train, train))\n",
    "print('MSE:', metrics.mean_squared_error(y_train, train))\n",
    "print('RMSE:',np.sqrt(metrics.mean_squared_error(y_train,train)))\n",
    "\n",
    "\n",
    "\n",
    "print('\\nMetrics on Testing Data Random Forest Regression\\n')\n",
    "print('MAE:', metrics.mean_absolute_error(y_test, pred))\n",
    "print('MSE:', metrics.mean_squared_error(y_test, pred))\n",
    "print('RMSE:',np.sqrt(metrics.mean_squared_error(y_test,pred)))\n",
    "\n",
    "\n"
   ]
  },
  {
   "cell_type": "code",
   "execution_count": 83,
   "id": "bd479634",
   "metadata": {
    "papermill": {
     "duration": 0.332317,
     "end_time": "2021-09-09T14:59:57.388558",
     "exception": false,
     "start_time": "2021-09-09T14:59:57.056241",
     "status": "completed"
    },
    "tags": []
   },
   "outputs": [
    {
     "data": {
      "text/plain": [
       "0.9906660244370808"
      ]
     },
     "execution_count": 83,
     "metadata": {},
     "output_type": "execute_result"
    }
   ],
   "source": [
    "#model score on training data\n",
    "regressor.score(X_train,y_train)\n"
   ]
  },
  {
   "cell_type": "code",
   "execution_count": 84,
   "id": "8bfd8a1f",
   "metadata": {
    "papermill": {
     "duration": 0.301277,
     "end_time": "2021-09-09T14:59:57.825798",
     "exception": false,
     "start_time": "2021-09-09T14:59:57.524521",
     "status": "completed"
    },
    "tags": []
   },
   "outputs": [
    {
     "data": {
      "text/plain": [
       "0.9727341135307832"
      ]
     },
     "execution_count": 84,
     "metadata": {},
     "output_type": "execute_result"
    }
   ],
   "source": [
    "#model score on test data\n",
    "regressor.score(X_test,y_test)"
   ]
  },
  {
   "cell_type": "code",
   "execution_count": 85,
   "id": "9b4b71e6",
   "metadata": {
    "papermill": {
     "duration": 135.132586,
     "end_time": "2021-09-09T15:02:13.123040",
     "exception": false,
     "start_time": "2021-09-09T14:59:57.990454",
     "status": "completed"
    },
    "scrolled": true,
    "tags": []
   },
   "outputs": [
    {
     "data": {
      "text/plain": [
       "[<matplotlib.lines.Line2D at 0x23c81045490>]"
      ]
     },
     "execution_count": 85,
     "metadata": {},
     "output_type": "execute_result"
    },
    {
     "data": {
      "image/png": "[encoded data removed]",
      "text/plain": [
       "<Figure size 432x288 with 1 Axes>"
      ]
     },
     "metadata": {},
     "output_type": "display_data"
    }
   ],
   "source": [
    "estimators = np.arange(20, 1000, 10)\n",
    "scores = []\n",
    "for n in estimators:\n",
    "    regressor.set_params(n_estimators=n)\n",
    "    regressor.fit(X_train, y_train)\n",
    "    scores.append(regressor.score(X_test, y_test))\n",
    "plt.title(\"Effect of n_estimators\")\n",
    "plt.xlabel(\"n_estimator\")\n",
    "plt.ylabel(\"score\")\n",
    "plt.plot(estimators, scores)"
   ]
  },
  {
   "cell_type": "markdown",
   "id": "4249be24",
   "metadata": {
    "papermill": {
     "duration": 0.136264,
     "end_time": "2021-09-09T15:02:13.399287",
     "exception": false,
     "start_time": "2021-09-09T15:02:13.263023",
     "status": "completed"
    },
    "tags": []
   },
   "source": [
    "Trying our algorithm accross different estimated values and we see the score maintained  ranges around 97% "
   ]
  },
  {
   "cell_type": "code",
   "execution_count": 86,
   "id": "b002f920",
   "metadata": {
    "papermill": {
     "duration": 0.279599,
     "end_time": "2021-09-09T15:02:13.816232",
     "exception": false,
     "start_time": "2021-09-09T15:02:13.536633",
     "status": "completed"
    },
    "tags": []
   },
   "outputs": [
    {
     "data": {
      "image/png": "[encoded data removed]",
      "text/plain": [
       "<Figure size 432x288 with 1 Axes>"
      ]
     },
     "metadata": {},
     "output_type": "display_data"
    }
   ],
   "source": [
    "# Visualizing the differences between actual prices and predicted values\n",
    "plt.scatter(y_train, train,color='red')\n",
    "plt.xlabel(\"Prices\")\n",
    "plt.ylabel(\"Predicted prices\")\n",
    "plt.title(\"Prices vs Predicted prices\")\n",
    "plt.show()\n",
    "\n"
   ]
  },
  {
   "cell_type": "code",
   "execution_count": 87,
   "id": "21ad8793",
   "metadata": {
    "papermill": {
     "duration": 0.287668,
     "end_time": "2021-09-09T15:02:14.242069",
     "exception": false,
     "start_time": "2021-09-09T15:02:13.954401",
     "status": "completed"
    },
    "tags": []
   },
   "outputs": [
    {
     "data": {
      "image/png": "[encoded data removed]",
      "text/plain": [
       "<Figure size 432x288 with 1 Axes>"
      ]
     },
     "metadata": {},
     "output_type": "display_data"
    }
   ],
   "source": [
    "# Checking residuals\n",
    "plt.scatter(train, y_train-train,color='red')\n",
    "plt.title(\"Predicted vs residuals\")\n",
    "plt.xlabel(\"Predicted\")\n",
    "plt.ylabel(\"Residuals\")\n",
    "plt.show()"
   ]
  },
  {
   "cell_type": "code",
   "execution_count": 88,
   "id": "55b90c7f",
   "metadata": {
    "papermill": {
     "duration": 0.360156,
     "end_time": "2021-09-09T15:02:14.743946",
     "exception": false,
     "start_time": "2021-09-09T15:02:14.383790",
     "status": "completed"
    },
    "tags": []
   },
   "outputs": [
    {
     "name": "stderr",
     "output_type": "stream",
     "text": [
      "C:\\Users\\Ramanjaneyareddy\\AppData\\Local\\Programs\\Python\\Python39\\lib\\site-packages\\seaborn\\distributions.py:2619: FutureWarning: `distplot` is a deprecated function and will be removed in a future version. Please adapt your code to use either `displot` (a figure-level function with similar flexibility) or `histplot` (an axes-level function for histograms).\n",
      "  warnings.warn(msg, FutureWarning)\n"
     ]
    },
    {
     "data": {
      "image/png": "[encoded data removed]",
      "text/plain": [
       "<Figure size 432x288 with 1 Axes>"
      ]
     },
     "metadata": {},
     "output_type": "display_data"
    }
   ],
   "source": [
    "# Checking Normality of errors\n",
    "sns.distplot(y_train-train)\n",
    "plt.title(\"Histogram of Residuals\")\n",
    "plt.xlabel(\"Residuals\")\n",
    "plt.ylabel(\"Frequency\")\n",
    "plt.show()\n",
    "#There is no pattern visible in this plot and values are distributed equally around zero. So Linearity assumption is satisfied"
   ]
  },
  {
   "cell_type": "markdown",
   "id": "a34974f7",
   "metadata": {
    "papermill": {
     "duration": 0.143417,
     "end_time": "2021-09-09T15:02:15.027880",
     "exception": false,
     "start_time": "2021-09-09T15:02:14.884463",
     "status": "completed"
    },
    "tags": []
   },
   "source": [
    "    We find that our model has an improved accuracy of around 97% with use of Random Forest Regression.\n",
    "    \n",
    "    Random forest works by  builds multiple decision trees and merges them together.\n",
    "    Often it's more accurate and stable in prediction \n",
    "    Random decision forests correct the decision tree’s habit of overfitting to their training set.\n"
   ]
  },
  {
   "cell_type": "code",
   "execution_count": null,
   "id": "5f686ae2",
   "metadata": {
    "papermill": {
     "duration": 0.144181,
     "end_time": "2021-09-09T15:02:15.317770",
     "exception": false,
     "start_time": "2021-09-09T15:02:15.173589",
     "status": "completed"
    },
    "tags": []
   },
   "outputs": [],
   "source": []
  }
 ],
 "metadata": {
  "kernelspec": {
   "display_name": "Python 3 (ipykernel)",
   "language": "python",
   "name": "python3"
  },
  "language_info": {
   "codemirror_mode": {
    "name": "ipython",
    "version": 3
   },
   "file_extension": ".py",
   "mimetype": "text/x-python",
   "name": "python",
   "nbconvert_exporter": "python",
   "pygments_lexer": "ipython3",
   "version": "3.9.8"
  },
  "papermill": {
   "default_parameters": {},
   "duration": 225.978078,
   "end_time": "2021-09-09T15:02:16.273581",
   "environment_variables": {},
   "exception": null,
   "input_path": "__notebook__.ipynb",
   "output_path": "__notebook__.ipynb",
   "parameters": {},
   "start_time": "2021-09-09T14:58:30.295503",
   "version": "2.3.3"
  }
 },
 "nbformat": 4,
 "nbformat_minor": 5
}
